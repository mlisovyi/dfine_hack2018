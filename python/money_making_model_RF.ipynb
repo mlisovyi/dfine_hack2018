{
 "cells": [
  {
   "cell_type": "code",
   "execution_count": 119,
   "metadata": {
    "ExecuteTime": {
     "end_time": "2018-10-20T15:07:15.197064Z",
     "start_time": "2018-10-20T15:07:15.189645Z"
    }
   },
   "outputs": [],
   "source": [
    "import os\n",
    "import numpy as np\n",
    "import pandas as pd\n",
    "import warnings\n",
    "warnings.simplefilter(action='ignore', category=Warning)\n",
    "import matplotlib.pyplot as plt\n",
    "import seaborn as sns\n",
    "%matplotlib inline\n",
    "import glob"
   ]
  },
  {
   "cell_type": "markdown",
   "metadata": {},
   "source": [
    "# Read in data\n",
    "The stock data first:"
   ]
  },
  {
   "cell_type": "code",
   "execution_count": 158,
   "metadata": {
    "ExecuteTime": {
     "end_time": "2018-10-20T15:15:20.236063Z",
     "start_time": "2018-10-20T15:15:20.222170Z"
    }
   },
   "outputs": [],
   "source": [
    "dfs = {}\n",
    "\n",
    "for ticker in ['BLK', 'GS', 'MS']:\n",
    "    dfs[ticker] = pd.read_pickle('stock_{}.pickle'.format(ticker)).set_index('Date')"
   ]
  },
  {
   "cell_type": "code",
   "execution_count": 159,
   "metadata": {},
   "outputs": [
    {
     "data": {
      "text/html": [
       "<div>\n",
       "<style scoped>\n",
       "    .dataframe tbody tr th:only-of-type {\n",
       "        vertical-align: middle;\n",
       "    }\n",
       "\n",
       "    .dataframe tbody tr th {\n",
       "        vertical-align: top;\n",
       "    }\n",
       "\n",
       "    .dataframe thead th {\n",
       "        text-align: right;\n",
       "    }\n",
       "</style>\n",
       "<table border=\"1\" class=\"dataframe\">\n",
       "  <thead>\n",
       "    <tr style=\"text-align: right;\">\n",
       "      <th></th>\n",
       "      <th>Close</th>\n",
       "      <th>diff_1d</th>\n",
       "      <th>diff_7d</th>\n",
       "      <th>Label</th>\n",
       "    </tr>\n",
       "    <tr>\n",
       "      <th>Date</th>\n",
       "      <th></th>\n",
       "      <th></th>\n",
       "      <th></th>\n",
       "      <th></th>\n",
       "    </tr>\n",
       "  </thead>\n",
       "  <tbody>\n",
       "    <tr>\n",
       "      <th>2007-01-03</th>\n",
       "      <td>200.720001</td>\n",
       "      <td>NaN</td>\n",
       "      <td>NaN</td>\n",
       "      <td>0</td>\n",
       "    </tr>\n",
       "    <tr>\n",
       "      <th>2007-01-04</th>\n",
       "      <td>198.850006</td>\n",
       "      <td>NaN</td>\n",
       "      <td>NaN</td>\n",
       "      <td>0</td>\n",
       "    </tr>\n",
       "    <tr>\n",
       "      <th>2007-01-05</th>\n",
       "      <td>199.050003</td>\n",
       "      <td>-0.009316</td>\n",
       "      <td>NaN</td>\n",
       "      <td>1</td>\n",
       "    </tr>\n",
       "    <tr>\n",
       "      <th>2007-01-08</th>\n",
       "      <td>203.729996</td>\n",
       "      <td>0.001006</td>\n",
       "      <td>NaN</td>\n",
       "      <td>1</td>\n",
       "    </tr>\n",
       "    <tr>\n",
       "      <th>2007-01-09</th>\n",
       "      <td>204.080002</td>\n",
       "      <td>0.023512</td>\n",
       "      <td>NaN</td>\n",
       "      <td>1</td>\n",
       "    </tr>\n",
       "  </tbody>\n",
       "</table>\n",
       "</div>"
      ],
      "text/plain": [
       "                 Close   diff_1d  diff_7d  Label\n",
       "Date                                            \n",
       "2007-01-03  200.720001       NaN      NaN      0\n",
       "2007-01-04  198.850006       NaN      NaN      0\n",
       "2007-01-05  199.050003 -0.009316      NaN      1\n",
       "2007-01-08  203.729996  0.001006      NaN      1\n",
       "2007-01-09  204.080002  0.023512      NaN      1"
      ]
     },
     "execution_count": 159,
     "metadata": {},
     "output_type": "execute_result"
    }
   ],
   "source": [
    "dfs['GS'].head()"
   ]
  },
  {
   "cell_type": "markdown",
   "metadata": {
    "ExecuteTime": {
     "end_time": "2018-10-20T15:09:40.138061Z",
     "start_time": "2018-10-20T15:09:40.133329Z"
    }
   },
   "source": [
    "The media data:"
   ]
  },
  {
   "cell_type": "code",
   "execution_count": 160,
   "metadata": {
    "ExecuteTime": {
     "end_time": "2018-10-20T15:11:00.323080Z",
     "start_time": "2018-10-20T15:11:00.312192Z"
    }
   },
   "outputs": [],
   "source": [
    "df_media = pd.read_csv('MediaAttention_Mini.csv', parse_dates=[0], index_col='Time')"
   ]
  },
  {
   "cell_type": "code",
   "execution_count": 161,
   "metadata": {
    "ExecuteTime": {
     "end_time": "2018-10-20T15:11:07.927528Z",
     "start_time": "2018-10-20T15:11:07.914762Z"
    }
   },
   "outputs": [
    {
     "name": "stdout",
     "output_type": "stream",
     "text": [
      "<class 'pandas.core.frame.DataFrame'>\n",
      "DatetimeIndex: 366 entries, 2008-01-01 to 2008-12-31\n",
      "Data columns (total 23 columns):\n",
      "Morgan_Stanley_count             366 non-null int64\n",
      "Goldman_Sachs_count              366 non-null int64\n",
      "BlackRock_count                  366 non-null int64\n",
      "positive_count                   366 non-null int64\n",
      "negative_count                   366 non-null int64\n",
      "Morgan_Stanley_positive_count    366 non-null int64\n",
      "Morgan_Stanley_negative_count    366 non-null int64\n",
      "Goldman_Sachs_positive_count     366 non-null int64\n",
      "Goldman_Sachs_negative_count     366 non-null int64\n",
      "BlackRock_positive_count         366 non-null int64\n",
      "BlackRock_negative_count         366 non-null int64\n",
      "total_msg_count                  366 non-null int64\n",
      "Morgan_Stanley_frac              366 non-null float64\n",
      "Goldman_Sachs_frac               366 non-null float64\n",
      "BlackRock_frac                   366 non-null float64\n",
      "positive_frac                    366 non-null float64\n",
      "negative_frac                    366 non-null float64\n",
      "Morgan_Stanley_positive_frac     366 non-null float64\n",
      "Morgan_Stanley_negative_frac     366 non-null float64\n",
      "Goldman_Sachs_positive_frac      366 non-null float64\n",
      "Goldman_Sachs_negative_frac      366 non-null float64\n",
      "BlackRock_positive_frac          366 non-null float64\n",
      "BlackRock_negative_frac          366 non-null float64\n",
      "dtypes: float64(11), int64(12)\n",
      "memory usage: 68.6 KB\n"
     ]
    }
   ],
   "source": [
    "df_media.info()"
   ]
  },
  {
   "cell_type": "code",
   "execution_count": 173,
   "metadata": {},
   "outputs": [
    {
     "data": {
      "text/plain": [
       "(2192, 23)"
      ]
     },
     "execution_count": 173,
     "metadata": {},
     "output_type": "execute_result"
    }
   ],
   "source": [
    "df_media_long = pd.DataFrame([])\n",
    "for fle in glob.glob('MediaAttentionLong*.csv'):\n",
    "    dummy = pd.read_csv(fle, parse_dates=[0], index_col='Time')\n",
    "    df_media_long =  pd.concat([df_media_long,dummy])\n",
    "              \n",
    "df_media_long = df_media_long['2007':'2012']\n",
    "df_media_long = df_media_long.resample('1D').sum()\n",
    "df_media_long.shape"
   ]
  },
  {
   "cell_type": "code",
   "execution_count": 163,
   "metadata": {
    "ExecuteTime": {
     "end_time": "2018-10-20T15:15:24.055315Z",
     "start_time": "2018-10-20T15:15:24.042878Z"
    }
   },
   "outputs": [],
   "source": [
    "for ticker in dfs:\n",
    "    dfs[ticker] = dfs[ticker].merge(df_media_long, how='inner', left_index=True, right_index=True)"
   ]
  },
  {
   "cell_type": "code",
   "execution_count": 164,
   "metadata": {},
   "outputs": [
    {
     "data": {
      "text/html": [
       "<div>\n",
       "<style scoped>\n",
       "    .dataframe tbody tr th:only-of-type {\n",
       "        vertical-align: middle;\n",
       "    }\n",
       "\n",
       "    .dataframe tbody tr th {\n",
       "        vertical-align: top;\n",
       "    }\n",
       "\n",
       "    .dataframe thead th {\n",
       "        text-align: right;\n",
       "    }\n",
       "</style>\n",
       "<table border=\"1\" class=\"dataframe\">\n",
       "  <thead>\n",
       "    <tr style=\"text-align: right;\">\n",
       "      <th></th>\n",
       "      <th>Close</th>\n",
       "      <th>diff_1d</th>\n",
       "      <th>diff_7d</th>\n",
       "      <th>Label</th>\n",
       "      <th>Morgan_Stanley_count</th>\n",
       "      <th>Goldman_Sachs_count</th>\n",
       "      <th>BlackRock_count</th>\n",
       "      <th>positive_count</th>\n",
       "      <th>negative_count</th>\n",
       "      <th>Morgan_Stanley_positive_count</th>\n",
       "      <th>...</th>\n",
       "      <th>Goldman_Sachs_frac</th>\n",
       "      <th>BlackRock_frac</th>\n",
       "      <th>positive_frac</th>\n",
       "      <th>negative_frac</th>\n",
       "      <th>Morgan_Stanley_positive_frac</th>\n",
       "      <th>Morgan_Stanley_negative_frac</th>\n",
       "      <th>Goldman_Sachs_positive_frac</th>\n",
       "      <th>Goldman_Sachs_negative_frac</th>\n",
       "      <th>BlackRock_positive_frac</th>\n",
       "      <th>BlackRock_negative_frac</th>\n",
       "    </tr>\n",
       "  </thead>\n",
       "  <tbody>\n",
       "    <tr>\n",
       "      <th>2007-01-03</th>\n",
       "      <td>155.119995</td>\n",
       "      <td>NaN</td>\n",
       "      <td>NaN</td>\n",
       "      <td>0</td>\n",
       "      <td>23</td>\n",
       "      <td>18</td>\n",
       "      <td>0</td>\n",
       "      <td>1689</td>\n",
       "      <td>1443</td>\n",
       "      <td>52</td>\n",
       "      <td>...</td>\n",
       "      <td>0.028846</td>\n",
       "      <td>0.0</td>\n",
       "      <td>2.706731</td>\n",
       "      <td>2.312500</td>\n",
       "      <td>0.083333</td>\n",
       "      <td>0.232372</td>\n",
       "      <td>0.064103</td>\n",
       "      <td>0.054487</td>\n",
       "      <td>0.0</td>\n",
       "      <td>0.0</td>\n",
       "    </tr>\n",
       "    <tr>\n",
       "      <th>2007-01-04</th>\n",
       "      <td>156.789993</td>\n",
       "      <td>NaN</td>\n",
       "      <td>NaN</td>\n",
       "      <td>1</td>\n",
       "      <td>24</td>\n",
       "      <td>16</td>\n",
       "      <td>0</td>\n",
       "      <td>1762</td>\n",
       "      <td>1592</td>\n",
       "      <td>77</td>\n",
       "      <td>...</td>\n",
       "      <td>0.021362</td>\n",
       "      <td>0.0</td>\n",
       "      <td>2.352470</td>\n",
       "      <td>2.125501</td>\n",
       "      <td>0.102804</td>\n",
       "      <td>0.104139</td>\n",
       "      <td>0.072096</td>\n",
       "      <td>0.017356</td>\n",
       "      <td>0.0</td>\n",
       "      <td>0.0</td>\n",
       "    </tr>\n",
       "    <tr>\n",
       "      <th>2007-01-05</th>\n",
       "      <td>156.750000</td>\n",
       "      <td>0.010766</td>\n",
       "      <td>NaN</td>\n",
       "      <td>0</td>\n",
       "      <td>13</td>\n",
       "      <td>16</td>\n",
       "      <td>0</td>\n",
       "      <td>2066</td>\n",
       "      <td>1773</td>\n",
       "      <td>50</td>\n",
       "      <td>...</td>\n",
       "      <td>0.024060</td>\n",
       "      <td>0.0</td>\n",
       "      <td>3.106767</td>\n",
       "      <td>2.666165</td>\n",
       "      <td>0.075188</td>\n",
       "      <td>0.058647</td>\n",
       "      <td>0.109774</td>\n",
       "      <td>0.079699</td>\n",
       "      <td>0.0</td>\n",
       "      <td>0.0</td>\n",
       "    </tr>\n",
       "    <tr>\n",
       "      <th>2007-01-08</th>\n",
       "      <td>159.639999</td>\n",
       "      <td>-0.000255</td>\n",
       "      <td>NaN</td>\n",
       "      <td>1</td>\n",
       "      <td>17</td>\n",
       "      <td>68</td>\n",
       "      <td>0</td>\n",
       "      <td>2308</td>\n",
       "      <td>1919</td>\n",
       "      <td>23</td>\n",
       "      <td>...</td>\n",
       "      <td>0.077273</td>\n",
       "      <td>0.0</td>\n",
       "      <td>2.622727</td>\n",
       "      <td>2.180682</td>\n",
       "      <td>0.026136</td>\n",
       "      <td>0.056818</td>\n",
       "      <td>0.245455</td>\n",
       "      <td>0.215909</td>\n",
       "      <td>0.0</td>\n",
       "      <td>0.0</td>\n",
       "    </tr>\n",
       "    <tr>\n",
       "      <th>2007-01-09</th>\n",
       "      <td>160.649994</td>\n",
       "      <td>0.018437</td>\n",
       "      <td>NaN</td>\n",
       "      <td>1</td>\n",
       "      <td>15</td>\n",
       "      <td>31</td>\n",
       "      <td>0</td>\n",
       "      <td>2385</td>\n",
       "      <td>2244</td>\n",
       "      <td>83</td>\n",
       "      <td>...</td>\n",
       "      <td>0.032597</td>\n",
       "      <td>0.0</td>\n",
       "      <td>2.507886</td>\n",
       "      <td>2.359621</td>\n",
       "      <td>0.087277</td>\n",
       "      <td>0.058885</td>\n",
       "      <td>0.126183</td>\n",
       "      <td>0.110410</td>\n",
       "      <td>0.0</td>\n",
       "      <td>0.0</td>\n",
       "    </tr>\n",
       "  </tbody>\n",
       "</table>\n",
       "<p>5 rows × 27 columns</p>\n",
       "</div>"
      ],
      "text/plain": [
       "                 Close   diff_1d  diff_7d  Label  Morgan_Stanley_count  \\\n",
       "2007-01-03  155.119995       NaN      NaN      0                    23   \n",
       "2007-01-04  156.789993       NaN      NaN      1                    24   \n",
       "2007-01-05  156.750000  0.010766      NaN      0                    13   \n",
       "2007-01-08  159.639999 -0.000255      NaN      1                    17   \n",
       "2007-01-09  160.649994  0.018437      NaN      1                    15   \n",
       "\n",
       "            Goldman_Sachs_count  BlackRock_count  positive_count  \\\n",
       "2007-01-03                   18                0            1689   \n",
       "2007-01-04                   16                0            1762   \n",
       "2007-01-05                   16                0            2066   \n",
       "2007-01-08                   68                0            2308   \n",
       "2007-01-09                   31                0            2385   \n",
       "\n",
       "            negative_count  Morgan_Stanley_positive_count  \\\n",
       "2007-01-03            1443                             52   \n",
       "2007-01-04            1592                             77   \n",
       "2007-01-05            1773                             50   \n",
       "2007-01-08            1919                             23   \n",
       "2007-01-09            2244                             83   \n",
       "\n",
       "                     ...             Goldman_Sachs_frac  BlackRock_frac  \\\n",
       "2007-01-03           ...                       0.028846             0.0   \n",
       "2007-01-04           ...                       0.021362             0.0   \n",
       "2007-01-05           ...                       0.024060             0.0   \n",
       "2007-01-08           ...                       0.077273             0.0   \n",
       "2007-01-09           ...                       0.032597             0.0   \n",
       "\n",
       "            positive_frac  negative_frac  Morgan_Stanley_positive_frac  \\\n",
       "2007-01-03       2.706731       2.312500                      0.083333   \n",
       "2007-01-04       2.352470       2.125501                      0.102804   \n",
       "2007-01-05       3.106767       2.666165                      0.075188   \n",
       "2007-01-08       2.622727       2.180682                      0.026136   \n",
       "2007-01-09       2.507886       2.359621                      0.087277   \n",
       "\n",
       "            Morgan_Stanley_negative_frac  Goldman_Sachs_positive_frac  \\\n",
       "2007-01-03                      0.232372                     0.064103   \n",
       "2007-01-04                      0.104139                     0.072096   \n",
       "2007-01-05                      0.058647                     0.109774   \n",
       "2007-01-08                      0.056818                     0.245455   \n",
       "2007-01-09                      0.058885                     0.126183   \n",
       "\n",
       "            Goldman_Sachs_negative_frac  BlackRock_positive_frac  \\\n",
       "2007-01-03                     0.054487                      0.0   \n",
       "2007-01-04                     0.017356                      0.0   \n",
       "2007-01-05                     0.079699                      0.0   \n",
       "2007-01-08                     0.215909                      0.0   \n",
       "2007-01-09                     0.110410                      0.0   \n",
       "\n",
       "            BlackRock_negative_frac  \n",
       "2007-01-03                      0.0  \n",
       "2007-01-04                      0.0  \n",
       "2007-01-05                      0.0  \n",
       "2007-01-08                      0.0  \n",
       "2007-01-09                      0.0  \n",
       "\n",
       "[5 rows x 27 columns]"
      ]
     },
     "execution_count": 164,
     "metadata": {},
     "output_type": "execute_result"
    }
   ],
   "source": [
    "dfs['BLK'].head()"
   ]
  },
  {
   "cell_type": "markdown",
   "metadata": {},
   "source": [
    "# Model"
   ]
  },
  {
   "cell_type": "code",
   "execution_count": 165,
   "metadata": {
    "ExecuteTime": {
     "end_time": "2018-10-20T15:22:57.697804Z",
     "start_time": "2018-10-20T15:22:57.694006Z"
    }
   },
   "outputs": [],
   "source": [
    "from sklearn.ensemble import RandomForestClassifier\n",
    "from sklearn.metrics import accuracy_score, recall_score, roc_auc_score, make_scorer\n",
    "from sklearn.model_selection import  cross_val_score, KFold"
   ]
  },
  {
   "cell_type": "code",
   "execution_count": 166,
   "metadata": {
    "ExecuteTime": {
     "end_time": "2018-10-20T15:28:01.370518Z",
     "start_time": "2018-10-20T15:28:01.365450Z"
    }
   },
   "outputs": [],
   "source": [
    "model = RandomForestClassifier(n_estimators=100, max_depth=2, random_state=314, n_jobs=4)"
   ]
  },
  {
   "cell_type": "code",
   "execution_count": 170,
   "metadata": {
    "ExecuteTime": {
     "end_time": "2018-10-20T15:31:16.584841Z",
     "start_time": "2018-10-20T15:31:12.099636Z"
    }
   },
   "outputs": [
    {
     "name": "stdout",
     "output_type": "stream",
     "text": [
      "BLK prediction performance in accuracy = 0.514+-0.015\n",
      "GS prediction performance in accuracy = 0.514+-0.033\n",
      "MS prediction performance in accuracy = 0.512+-0.017\n"
     ]
    }
   ],
   "source": [
    "for ticker in dfs:\n",
    "    X = dfs[ticker].drop(['Label', 'Close'], axis=1)\n",
    "    y = dfs[ticker].loc[:,'Label']\n",
    "    scores = cross_val_score(model, X.fillna(-1), y.fillna(-1), \n",
    "                             scoring=make_scorer(accuracy_score), \n",
    "                             cv=KFold(5, shuffle=True, random_state=314), \n",
    "                             n_jobs=1\n",
    "                            )\n",
    "    print('{} prediction performance in accuracy = {:.3f}+-{:.3f}'.format(ticker,\n",
    "                                                                          np.mean(scores),\n",
    "                                                                          np.std(scores)\n",
    "                                                                         ))"
   ]
  },
  {
   "cell_type": "code",
   "execution_count": 168,
   "metadata": {
    "ExecuteTime": {
     "end_time": "2018-10-20T15:32:12.805315Z",
     "start_time": "2018-10-20T15:32:11.675602Z"
    }
   },
   "outputs": [
    {
     "data": {
      "text/plain": [
       "<matplotlib.axes._subplots.AxesSubplot at 0x1ea0ecdf0f0>"
      ]
     },
     "execution_count": 168,
     "metadata": {},
     "output_type": "execute_result"
    },
    {
     "data": {
      "image/png": "[encoded data removed]",
      "text/plain": [
       "<Figure size 1080x864 with 2 Axes>"
      ]
     },
     "metadata": {
      "needs_background": "light"
     },
     "output_type": "display_data"
    }
   ],
   "source": [
    "plt.figure(figsize=(15,12))\n",
    "sns.heatmap(dfs['BLK'].corr(), vmin=-0.2, vmax=0.2)"
   ]
  },
  {
   "cell_type": "code",
   "execution_count": 174,
   "metadata": {},
   "outputs": [
    {
     "name": "stdout",
     "output_type": "stream",
     "text": [
      "ALL prediction performance in accuracy = 0.540+-0.015\n"
     ]
    }
   ],
   "source": [
    "# model all together\n",
    "df = pd.concat(list(dfs.values()), axis=0)\n",
    "X = df.drop(['Label', 'Close'], axis=1).fillna(-1)\n",
    "y = df.loc[:,'Label']\n",
    "scores = cross_val_score(model, X.fillna(-1), y.fillna(-1), \n",
    "                         scoring=make_scorer(accuracy_score), \n",
    "                         cv=KFold(10, shuffle=True, random_state=314), \n",
    "                         n_jobs=1\n",
    "                        )\n",
    "print('{} prediction performance in accuracy = {:.3f}+-{:.3f}'.format('ALL',\n",
    "                                                                      np.mean(scores),\n",
    "                                                                      np.std(scores)\n",
    "                                                                     ))"
   ]
  },
  {
   "cell_type": "code",
   "execution_count": null,
   "metadata": {},
   "outputs": [],
   "source": []
  }
 ],
 "metadata": {
  "kernelspec": {
   "display_name": "Python 3",
   "language": "python",
   "name": "python3"
  },
  "language_info": {
   "codemirror_mode": {
    "name": "ipython",
    "version": 3
   },
   "file_extension": ".py",
   "mimetype": "text/x-python",
   "name": "python",
   "nbconvert_exporter": "python",
   "pygments_lexer": "ipython3",
   "version": "3.7.0"
  },
  "toc": {
   "base_numbering": 1,
   "nav_menu": {},
   "number_sections": true,
   "sideBar": true,
   "skip_h1_title": false,
   "title_cell": "Table of Contents",
   "title_sidebar": "Contents",
   "toc_cell": false,
   "toc_position": {},
   "toc_section_display": true,
   "toc_window_display": false
  }
 },
 "nbformat": 4,
 "nbformat_minor": 2
}
