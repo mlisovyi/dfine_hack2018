{
 "cells": [
  {
   "cell_type": "code",
   "execution_count": 10,
   "metadata": {
    "ExecuteTime": {
     "end_time": "2018-10-20T15:07:15.197064Z",
     "start_time": "2018-10-20T15:07:15.189645Z"
    }
   },
   "outputs": [],
   "source": [
    "import os\n",
    "import numpy as np\n",
    "import pandas as pd\n",
    "import warnings\n",
    "warnings.simplefilter(action='ignore', category=Warning)\n",
    "import matplotlib.pyplot as plt\n",
    "import seaborn as sns\n",
    "%matplotlib inline"
   ]
  },
  {
   "cell_type": "markdown",
   "metadata": {},
   "source": [
    "# Read in data\n",
    "The stock data first:"
   ]
  },
  {
   "cell_type": "code",
   "execution_count": 30,
   "metadata": {
    "ExecuteTime": {
     "end_time": "2018-10-20T15:15:20.236063Z",
     "start_time": "2018-10-20T15:15:20.222170Z"
    }
   },
   "outputs": [],
   "source": [
    "dfs = {}\n",
    "\n",
    "for ticker in ['BLK', 'GS', 'MS']:\n",
    "    dfs[ticker] = pd.read_pickle('stock_{}.pickle'.format(ticker)).set_index('Date')"
   ]
  },
  {
   "cell_type": "markdown",
   "metadata": {
    "ExecuteTime": {
     "end_time": "2018-10-20T15:09:40.138061Z",
     "start_time": "2018-10-20T15:09:40.133329Z"
    }
   },
   "source": [
    "The media data:"
   ]
  },
  {
   "cell_type": "code",
   "execution_count": 20,
   "metadata": {
    "ExecuteTime": {
     "end_time": "2018-10-20T15:11:00.323080Z",
     "start_time": "2018-10-20T15:11:00.312192Z"
    }
   },
   "outputs": [],
   "source": [
    "df_media = pd.read_csv('MediaAttention_Mini.csv', parse_dates=[0], index_col='Time')"
   ]
  },
  {
   "cell_type": "code",
   "execution_count": 21,
   "metadata": {
    "ExecuteTime": {
     "end_time": "2018-10-20T15:11:07.927528Z",
     "start_time": "2018-10-20T15:11:07.914762Z"
    }
   },
   "outputs": [
    {
     "name": "stdout",
     "output_type": "stream",
     "text": [
      "<class 'pandas.core.frame.DataFrame'>\n",
      "DatetimeIndex: 366 entries, 2008-01-01 to 2008-12-31\n",
      "Data columns (total 23 columns):\n",
      "Morgan_Stanley_count             366 non-null int64\n",
      "Goldman_Sachs_count              366 non-null int64\n",
      "BlackRock_count                  366 non-null int64\n",
      "positive_count                   366 non-null int64\n",
      "negative_count                   366 non-null int64\n",
      "Morgan_Stanley_positive_count    366 non-null int64\n",
      "Morgan_Stanley_negative_count    366 non-null int64\n",
      "Goldman_Sachs_positive_count     366 non-null int64\n",
      "Goldman_Sachs_negative_count     366 non-null int64\n",
      "BlackRock_positive_count         366 non-null int64\n",
      "BlackRock_negative_count         366 non-null int64\n",
      "total_msg_count                  366 non-null int64\n",
      "Morgan_Stanley_frac              366 non-null float64\n",
      "Goldman_Sachs_frac               366 non-null float64\n",
      "BlackRock_frac                   366 non-null float64\n",
      "positive_frac                    366 non-null float64\n",
      "negative_frac                    366 non-null float64\n",
      "Morgan_Stanley_positive_frac     366 non-null float64\n",
      "Morgan_Stanley_negative_frac     366 non-null float64\n",
      "Goldman_Sachs_positive_frac      366 non-null float64\n",
      "Goldman_Sachs_negative_frac      366 non-null float64\n",
      "BlackRock_positive_frac          366 non-null float64\n",
      "BlackRock_negative_frac          366 non-null float64\n",
      "dtypes: float64(11), int64(12)\n",
      "memory usage: 68.6 KB\n"
     ]
    }
   ],
   "source": [
    "df_media.info()"
   ]
  },
  {
   "cell_type": "code",
   "execution_count": 31,
   "metadata": {
    "ExecuteTime": {
     "end_time": "2018-10-20T15:15:24.055315Z",
     "start_time": "2018-10-20T15:15:24.042878Z"
    }
   },
   "outputs": [],
   "source": [
    "for ticker in dfs:\n",
    "    dfs[ticker] = dfs[ticker].merge(df_media, how='inner', left_index=True, right_index=True)"
   ]
  },
  {
   "cell_type": "code",
   "execution_count": 33,
   "metadata": {
    "ExecuteTime": {
     "end_time": "2018-10-20T15:15:47.662883Z",
     "start_time": "2018-10-20T15:15:47.635684Z"
    }
   },
   "outputs": [
    {
     "data": {
      "text/html": [
       "<div>\n",
       "<style scoped>\n",
       "    .dataframe tbody tr th:only-of-type {\n",
       "        vertical-align: middle;\n",
       "    }\n",
       "\n",
       "    .dataframe tbody tr th {\n",
       "        vertical-align: top;\n",
       "    }\n",
       "\n",
       "    .dataframe thead th {\n",
       "        text-align: right;\n",
       "    }\n",
       "</style>\n",
       "<table border=\"1\" class=\"dataframe\">\n",
       "  <thead>\n",
       "    <tr style=\"text-align: right;\">\n",
       "      <th></th>\n",
       "      <th>Close</th>\n",
       "      <th>diff_1d</th>\n",
       "      <th>diff_7d</th>\n",
       "      <th>Label</th>\n",
       "      <th>Morgan_Stanley_count</th>\n",
       "      <th>Goldman_Sachs_count</th>\n",
       "      <th>BlackRock_count</th>\n",
       "      <th>positive_count</th>\n",
       "      <th>negative_count</th>\n",
       "      <th>Morgan_Stanley_positive_count</th>\n",
       "      <th>...</th>\n",
       "      <th>Goldman_Sachs_frac</th>\n",
       "      <th>BlackRock_frac</th>\n",
       "      <th>positive_frac</th>\n",
       "      <th>negative_frac</th>\n",
       "      <th>Morgan_Stanley_positive_frac</th>\n",
       "      <th>Morgan_Stanley_negative_frac</th>\n",
       "      <th>Goldman_Sachs_positive_frac</th>\n",
       "      <th>Goldman_Sachs_negative_frac</th>\n",
       "      <th>BlackRock_positive_frac</th>\n",
       "      <th>BlackRock_negative_frac</th>\n",
       "    </tr>\n",
       "  </thead>\n",
       "  <tbody>\n",
       "    <tr>\n",
       "      <th>2008-01-02</th>\n",
       "      <td>215.309998</td>\n",
       "      <td>-0.011625</td>\n",
       "      <td>0.007282</td>\n",
       "      <td>0</td>\n",
       "      <td>28</td>\n",
       "      <td>18</td>\n",
       "      <td>10</td>\n",
       "      <td>379</td>\n",
       "      <td>835</td>\n",
       "      <td>0</td>\n",
       "      <td>...</td>\n",
       "      <td>0.006265</td>\n",
       "      <td>0.003481</td>\n",
       "      <td>0.131918</td>\n",
       "      <td>0.290637</td>\n",
       "      <td>0.000000</td>\n",
       "      <td>0.007658</td>\n",
       "      <td>0.0</td>\n",
       "      <td>0.005569</td>\n",
       "      <td>0.0</td>\n",
       "      <td>0.005569</td>\n",
       "    </tr>\n",
       "    <tr>\n",
       "      <th>2008-01-03</th>\n",
       "      <td>225.800003</td>\n",
       "      <td>-0.006873</td>\n",
       "      <td>0.007158</td>\n",
       "      <td>1</td>\n",
       "      <td>34</td>\n",
       "      <td>17</td>\n",
       "      <td>5</td>\n",
       "      <td>422</td>\n",
       "      <td>986</td>\n",
       "      <td>0</td>\n",
       "      <td>...</td>\n",
       "      <td>0.005105</td>\n",
       "      <td>0.001502</td>\n",
       "      <td>0.126727</td>\n",
       "      <td>0.296096</td>\n",
       "      <td>0.000000</td>\n",
       "      <td>0.009009</td>\n",
       "      <td>0.0</td>\n",
       "      <td>0.004204</td>\n",
       "      <td>0.0</td>\n",
       "      <td>0.002102</td>\n",
       "    </tr>\n",
       "    <tr>\n",
       "      <th>2008-01-04</th>\n",
       "      <td>210.979996</td>\n",
       "      <td>0.048720</td>\n",
       "      <td>0.006466</td>\n",
       "      <td>0</td>\n",
       "      <td>25</td>\n",
       "      <td>18</td>\n",
       "      <td>5</td>\n",
       "      <td>334</td>\n",
       "      <td>869</td>\n",
       "      <td>0</td>\n",
       "      <td>...</td>\n",
       "      <td>0.006944</td>\n",
       "      <td>0.001929</td>\n",
       "      <td>0.128858</td>\n",
       "      <td>0.335262</td>\n",
       "      <td>0.000000</td>\n",
       "      <td>0.009259</td>\n",
       "      <td>0.0</td>\n",
       "      <td>0.006559</td>\n",
       "      <td>0.0</td>\n",
       "      <td>0.002701</td>\n",
       "    </tr>\n",
       "    <tr>\n",
       "      <th>2008-01-07</th>\n",
       "      <td>206.699997</td>\n",
       "      <td>-0.065633</td>\n",
       "      <td>-0.005111</td>\n",
       "      <td>0</td>\n",
       "      <td>32</td>\n",
       "      <td>17</td>\n",
       "      <td>10</td>\n",
       "      <td>549</td>\n",
       "      <td>1178</td>\n",
       "      <td>0</td>\n",
       "      <td>...</td>\n",
       "      <td>0.004308</td>\n",
       "      <td>0.002534</td>\n",
       "      <td>0.139128</td>\n",
       "      <td>0.298530</td>\n",
       "      <td>0.000000</td>\n",
       "      <td>0.007096</td>\n",
       "      <td>0.0</td>\n",
       "      <td>0.003548</td>\n",
       "      <td>0.0</td>\n",
       "      <td>0.003041</td>\n",
       "    </tr>\n",
       "    <tr>\n",
       "      <th>2008-01-08</th>\n",
       "      <td>201.130005</td>\n",
       "      <td>-0.020286</td>\n",
       "      <td>-0.009669</td>\n",
       "      <td>0</td>\n",
       "      <td>26</td>\n",
       "      <td>20</td>\n",
       "      <td>8</td>\n",
       "      <td>569</td>\n",
       "      <td>1186</td>\n",
       "      <td>0</td>\n",
       "      <td>...</td>\n",
       "      <td>0.005151</td>\n",
       "      <td>0.002060</td>\n",
       "      <td>0.146536</td>\n",
       "      <td>0.305434</td>\n",
       "      <td>0.000000</td>\n",
       "      <td>0.006181</td>\n",
       "      <td>0.0</td>\n",
       "      <td>0.004378</td>\n",
       "      <td>0.0</td>\n",
       "      <td>0.002318</td>\n",
       "    </tr>\n",
       "    <tr>\n",
       "      <th>2008-01-09</th>\n",
       "      <td>199.779999</td>\n",
       "      <td>-0.026947</td>\n",
       "      <td>-0.011106</td>\n",
       "      <td>0</td>\n",
       "      <td>31</td>\n",
       "      <td>24</td>\n",
       "      <td>11</td>\n",
       "      <td>498</td>\n",
       "      <td>1128</td>\n",
       "      <td>0</td>\n",
       "      <td>...</td>\n",
       "      <td>0.006891</td>\n",
       "      <td>0.003158</td>\n",
       "      <td>0.142980</td>\n",
       "      <td>0.323859</td>\n",
       "      <td>0.000000</td>\n",
       "      <td>0.007752</td>\n",
       "      <td>0.0</td>\n",
       "      <td>0.006029</td>\n",
       "      <td>0.0</td>\n",
       "      <td>0.004307</td>\n",
       "    </tr>\n",
       "    <tr>\n",
       "      <th>2008-01-10</th>\n",
       "      <td>208.830002</td>\n",
       "      <td>-0.006712</td>\n",
       "      <td>-0.012765</td>\n",
       "      <td>1</td>\n",
       "      <td>25</td>\n",
       "      <td>17</td>\n",
       "      <td>6</td>\n",
       "      <td>484</td>\n",
       "      <td>1101</td>\n",
       "      <td>0</td>\n",
       "      <td>...</td>\n",
       "      <td>0.004660</td>\n",
       "      <td>0.001645</td>\n",
       "      <td>0.132675</td>\n",
       "      <td>0.301809</td>\n",
       "      <td>0.000000</td>\n",
       "      <td>0.005482</td>\n",
       "      <td>0.0</td>\n",
       "      <td>0.003838</td>\n",
       "      <td>0.0</td>\n",
       "      <td>0.002193</td>\n",
       "    </tr>\n",
       "    <tr>\n",
       "      <th>2008-01-11</th>\n",
       "      <td>204.059998</td>\n",
       "      <td>0.045300</td>\n",
       "      <td>-0.004633</td>\n",
       "      <td>0</td>\n",
       "      <td>0</td>\n",
       "      <td>0</td>\n",
       "      <td>0</td>\n",
       "      <td>45</td>\n",
       "      <td>109</td>\n",
       "      <td>0</td>\n",
       "      <td>...</td>\n",
       "      <td>0.000000</td>\n",
       "      <td>0.000000</td>\n",
       "      <td>0.151007</td>\n",
       "      <td>0.365772</td>\n",
       "      <td>0.000000</td>\n",
       "      <td>0.000000</td>\n",
       "      <td>0.0</td>\n",
       "      <td>0.000000</td>\n",
       "      <td>0.0</td>\n",
       "      <td>0.000000</td>\n",
       "    </tr>\n",
       "    <tr>\n",
       "      <th>2008-01-14</th>\n",
       "      <td>208.399994</td>\n",
       "      <td>-0.022842</td>\n",
       "      <td>-0.006914</td>\n",
       "      <td>1</td>\n",
       "      <td>28</td>\n",
       "      <td>18</td>\n",
       "      <td>7</td>\n",
       "      <td>587</td>\n",
       "      <td>1111</td>\n",
       "      <td>2</td>\n",
       "      <td>...</td>\n",
       "      <td>0.004877</td>\n",
       "      <td>0.001897</td>\n",
       "      <td>0.159035</td>\n",
       "      <td>0.301002</td>\n",
       "      <td>0.000542</td>\n",
       "      <td>0.006773</td>\n",
       "      <td>0.0</td>\n",
       "      <td>0.003793</td>\n",
       "      <td>0.0</td>\n",
       "      <td>0.002709</td>\n",
       "    </tr>\n",
       "    <tr>\n",
       "      <th>2008-01-15</th>\n",
       "      <td>202.360001</td>\n",
       "      <td>0.021268</td>\n",
       "      <td>-0.010836</td>\n",
       "      <td>0</td>\n",
       "      <td>28</td>\n",
       "      <td>14</td>\n",
       "      <td>7</td>\n",
       "      <td>542</td>\n",
       "      <td>1295</td>\n",
       "      <td>0</td>\n",
       "      <td>...</td>\n",
       "      <td>0.003551</td>\n",
       "      <td>0.001776</td>\n",
       "      <td>0.137494</td>\n",
       "      <td>0.328513</td>\n",
       "      <td>0.000000</td>\n",
       "      <td>0.006596</td>\n",
       "      <td>0.0</td>\n",
       "      <td>0.003298</td>\n",
       "      <td>0.0</td>\n",
       "      <td>0.002283</td>\n",
       "    </tr>\n",
       "  </tbody>\n",
       "</table>\n",
       "<p>10 rows × 27 columns</p>\n",
       "</div>"
      ],
      "text/plain": [
       "                 Close   diff_1d   diff_7d  Label  Morgan_Stanley_count  \\\n",
       "2008-01-02  215.309998 -0.011625  0.007282      0                    28   \n",
       "2008-01-03  225.800003 -0.006873  0.007158      1                    34   \n",
       "2008-01-04  210.979996  0.048720  0.006466      0                    25   \n",
       "2008-01-07  206.699997 -0.065633 -0.005111      0                    32   \n",
       "2008-01-08  201.130005 -0.020286 -0.009669      0                    26   \n",
       "2008-01-09  199.779999 -0.026947 -0.011106      0                    31   \n",
       "2008-01-10  208.830002 -0.006712 -0.012765      1                    25   \n",
       "2008-01-11  204.059998  0.045300 -0.004633      0                     0   \n",
       "2008-01-14  208.399994 -0.022842 -0.006914      1                    28   \n",
       "2008-01-15  202.360001  0.021268 -0.010836      0                    28   \n",
       "\n",
       "            Goldman_Sachs_count  BlackRock_count  positive_count  \\\n",
       "2008-01-02                   18               10             379   \n",
       "2008-01-03                   17                5             422   \n",
       "2008-01-04                   18                5             334   \n",
       "2008-01-07                   17               10             549   \n",
       "2008-01-08                   20                8             569   \n",
       "2008-01-09                   24               11             498   \n",
       "2008-01-10                   17                6             484   \n",
       "2008-01-11                    0                0              45   \n",
       "2008-01-14                   18                7             587   \n",
       "2008-01-15                   14                7             542   \n",
       "\n",
       "            negative_count  Morgan_Stanley_positive_count  \\\n",
       "2008-01-02             835                              0   \n",
       "2008-01-03             986                              0   \n",
       "2008-01-04             869                              0   \n",
       "2008-01-07            1178                              0   \n",
       "2008-01-08            1186                              0   \n",
       "2008-01-09            1128                              0   \n",
       "2008-01-10            1101                              0   \n",
       "2008-01-11             109                              0   \n",
       "2008-01-14            1111                              2   \n",
       "2008-01-15            1295                              0   \n",
       "\n",
       "                     ...             Goldman_Sachs_frac  BlackRock_frac  \\\n",
       "2008-01-02           ...                       0.006265        0.003481   \n",
       "2008-01-03           ...                       0.005105        0.001502   \n",
       "2008-01-04           ...                       0.006944        0.001929   \n",
       "2008-01-07           ...                       0.004308        0.002534   \n",
       "2008-01-08           ...                       0.005151        0.002060   \n",
       "2008-01-09           ...                       0.006891        0.003158   \n",
       "2008-01-10           ...                       0.004660        0.001645   \n",
       "2008-01-11           ...                       0.000000        0.000000   \n",
       "2008-01-14           ...                       0.004877        0.001897   \n",
       "2008-01-15           ...                       0.003551        0.001776   \n",
       "\n",
       "            positive_frac  negative_frac  Morgan_Stanley_positive_frac  \\\n",
       "2008-01-02       0.131918       0.290637                      0.000000   \n",
       "2008-01-03       0.126727       0.296096                      0.000000   \n",
       "2008-01-04       0.128858       0.335262                      0.000000   \n",
       "2008-01-07       0.139128       0.298530                      0.000000   \n",
       "2008-01-08       0.146536       0.305434                      0.000000   \n",
       "2008-01-09       0.142980       0.323859                      0.000000   \n",
       "2008-01-10       0.132675       0.301809                      0.000000   \n",
       "2008-01-11       0.151007       0.365772                      0.000000   \n",
       "2008-01-14       0.159035       0.301002                      0.000542   \n",
       "2008-01-15       0.137494       0.328513                      0.000000   \n",
       "\n",
       "            Morgan_Stanley_negative_frac  Goldman_Sachs_positive_frac  \\\n",
       "2008-01-02                      0.007658                          0.0   \n",
       "2008-01-03                      0.009009                          0.0   \n",
       "2008-01-04                      0.009259                          0.0   \n",
       "2008-01-07                      0.007096                          0.0   \n",
       "2008-01-08                      0.006181                          0.0   \n",
       "2008-01-09                      0.007752                          0.0   \n",
       "2008-01-10                      0.005482                          0.0   \n",
       "2008-01-11                      0.000000                          0.0   \n",
       "2008-01-14                      0.006773                          0.0   \n",
       "2008-01-15                      0.006596                          0.0   \n",
       "\n",
       "            Goldman_Sachs_negative_frac  BlackRock_positive_frac  \\\n",
       "2008-01-02                     0.005569                      0.0   \n",
       "2008-01-03                     0.004204                      0.0   \n",
       "2008-01-04                     0.006559                      0.0   \n",
       "2008-01-07                     0.003548                      0.0   \n",
       "2008-01-08                     0.004378                      0.0   \n",
       "2008-01-09                     0.006029                      0.0   \n",
       "2008-01-10                     0.003838                      0.0   \n",
       "2008-01-11                     0.000000                      0.0   \n",
       "2008-01-14                     0.003793                      0.0   \n",
       "2008-01-15                     0.003298                      0.0   \n",
       "\n",
       "            BlackRock_negative_frac  \n",
       "2008-01-02                 0.005569  \n",
       "2008-01-03                 0.002102  \n",
       "2008-01-04                 0.002701  \n",
       "2008-01-07                 0.003041  \n",
       "2008-01-08                 0.002318  \n",
       "2008-01-09                 0.004307  \n",
       "2008-01-10                 0.002193  \n",
       "2008-01-11                 0.000000  \n",
       "2008-01-14                 0.002709  \n",
       "2008-01-15                 0.002283  \n",
       "\n",
       "[10 rows x 27 columns]"
      ]
     },
     "execution_count": 33,
     "metadata": {},
     "output_type": "execute_result"
    }
   ],
   "source": [
    "dfs['BLK'].head(10)"
   ]
  },
  {
   "cell_type": "markdown",
   "metadata": {},
   "source": [
    "# Model"
   ]
  },
  {
   "cell_type": "code",
   "execution_count": 36,
   "metadata": {
    "ExecuteTime": {
     "end_time": "2018-10-20T15:22:57.697804Z",
     "start_time": "2018-10-20T15:22:57.694006Z"
    }
   },
   "outputs": [],
   "source": [
    "from sklearn.ensemble import RandomForestClassifier\n",
    "from sklearn.metrics import accuracy_score, recall_score, roc_auc_score, make_scorer\n",
    "from sklearn.model_selection import  cross_val_score, KFold"
   ]
  },
  {
   "cell_type": "code",
   "execution_count": 43,
   "metadata": {
    "ExecuteTime": {
     "end_time": "2018-10-20T15:28:01.370518Z",
     "start_time": "2018-10-20T15:28:01.365450Z"
    }
   },
   "outputs": [],
   "source": [
    "model = RandomForestClassifier(n_estimators=100, max_depth=2, random_state=314, n_jobs=4)"
   ]
  },
  {
   "cell_type": "code",
   "execution_count": 51,
   "metadata": {
    "ExecuteTime": {
     "end_time": "2018-10-20T15:31:16.584841Z",
     "start_time": "2018-10-20T15:31:12.099636Z"
    }
   },
   "outputs": [
    {
     "name": "stdout",
     "output_type": "stream",
     "text": [
      "BLK prediction performance in accuracy = 0.546+-0.072\n",
      "GS prediction performance in accuracy = 0.533+-0.031\n",
      "MS prediction performance in accuracy = 0.538+-0.045\n"
     ]
    }
   ],
   "source": [
    "for ticker in dfs:\n",
    "    X = dfs[ticker].drop(['Label', 'Close'], axis=1)\n",
    "    y = dfs[ticker].loc[:,'Label']\n",
    "    scores = cross_val_score(model, X, y, \n",
    "                             scoring=make_scorer(accuracy_score), \n",
    "                             cv=KFold(5, shuffle=True, random_state=314), \n",
    "                             n_jobs=1\n",
    "                            )\n",
    "    print('{} prediction performance in accuracy = {:.3f}+-{:.3f}'.format(ticker,\n",
    "                                                                          np.mean(scores),\n",
    "                                                                          np.std(scores)\n",
    "                                                                         ))"
   ]
  },
  {
   "cell_type": "code",
   "execution_count": 53,
   "metadata": {
    "ExecuteTime": {
     "end_time": "2018-10-20T15:32:12.805315Z",
     "start_time": "2018-10-20T15:32:11.675602Z"
    }
   },
   "outputs": [
    {
     "data": {
      "text/plain": [
       "<matplotlib.axes._subplots.AxesSubplot at 0x7efc32bf39b0>"
      ]
     },
     "execution_count": 53,
     "metadata": {},
     "output_type": "execute_result"
    },
    {
     "data": {
      "image/png": "[encoded data removed]",
      "text/plain": [
       "<Figure size 1080x864 with 2 Axes>"
      ]
     },
     "metadata": {
      "needs_background": "light"
     },
     "output_type": "display_data"
    }
   ],
   "source": [
    "plt.figure(figsize=(15,12))\n",
    "sns.heatmap(dfs['BLK'].corr(), vmin=-0.2, vmax=0.2)"
   ]
  },
  {
   "cell_type": "code",
   "execution_count": null,
   "metadata": {},
   "outputs": [],
   "source": []
  }
 ],
 "metadata": {
  "kernelspec": {
   "display_name": "Python 3",
   "language": "python",
   "name": "python3"
  },
  "language_info": {
   "codemirror_mode": {
    "name": "ipython",
    "version": 3
   },
   "file_extension": ".py",
   "mimetype": "text/x-python",
   "name": "python",
   "nbconvert_exporter": "python",
   "pygments_lexer": "ipython3",
   "version": "3.6.6"
  },
  "toc": {
   "base_numbering": 1,
   "nav_menu": {},
   "number_sections": true,
   "sideBar": true,
   "skip_h1_title": false,
   "title_cell": "Table of Contents",
   "title_sidebar": "Contents",
   "toc_cell": false,
   "toc_position": {},
   "toc_section_display": true,
   "toc_window_display": false
  }
 },
 "nbformat": 4,
 "nbformat_minor": 2
}
