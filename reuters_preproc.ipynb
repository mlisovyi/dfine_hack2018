{
 "cells": [
  {
   "cell_type": "code",
   "execution_count": 1,
   "metadata": {
    "ExecuteTime": {
     "end_time": "2018-10-19T17:03:26.903556Z",
     "start_time": "2018-10-19T17:03:26.157076Z"
    }
   },
   "outputs": [],
   "source": [
    "import os\n",
    "import numpy as np\n",
    "import pandas as pd\n",
    "import warnings\n",
    "warnings.simplefilter(action='ignore', category=FutureWarning)\n",
    "import matplotlib.pyplot as plt\n",
    "import seaborn as sns\n",
    "%matplotlib inline"
   ]
  },
  {
   "cell_type": "code",
   "execution_count": 2,
   "metadata": {
    "ExecuteTime": {
     "end_time": "2018-10-19T17:03:26.907651Z",
     "start_time": "2018-10-19T17:03:26.905345Z"
    }
   },
   "outputs": [],
   "source": [
    "PATH = '../finanz_vs_news/'\n",
    "#PATH = ''\n",
    "#PATH = ''"
   ]
  },
  {
   "cell_type": "code",
   "execution_count": 3,
   "metadata": {
    "ExecuteTime": {
     "end_time": "2018-10-19T17:03:26.932867Z",
     "start_time": "2018-10-19T17:03:26.929846Z"
    }
   },
   "outputs": [],
   "source": [
    "# example how to read the daily stock rates with PATH\n",
    "#df_stock = pd.read_csv(PATH+'StocksDaily/ALL_2007-01-01_2017-10-16.csv')"
   ]
  },
  {
   "cell_type": "code",
   "execution_count": 4,
   "metadata": {
    "ExecuteTime": {
     "end_time": "2018-10-19T17:03:27.375659Z",
     "start_time": "2018-10-19T17:03:27.373139Z"
    }
   },
   "outputs": [],
   "source": [
    "#!ls ../finanz_vs_news/Reuters_US/"
   ]
  },
  {
   "cell_type": "code",
   "execution_count": 5,
   "metadata": {
    "ExecuteTime": {
     "end_time": "2018-10-19T17:06:39.692415Z",
     "start_time": "2018-10-19T17:03:31.203156Z"
    }
   },
   "outputs": [],
   "source": [
    "reu_file_list = [f for f in os.listdir(PATH+'Reuters_US/') if '_2008' in f]\n",
    "\n",
    "df_reu_list = []\n",
    "for date_file in reu_file_list:\n",
    "    df_tmp = pd.read_csv(PATH+'Reuters_US/'+date_file,\n",
    "                         delimiter=';', \n",
    "                         parse_dates=[0], \n",
    "                         names=['Time', 'Short_Msg', 'Long_Msg', 'Link']\n",
    "                        ).iloc[:,:2].dropna()\n",
    "    df_reu_list.append(df_tmp)\n",
    "    \n",
    "df_reu = pd.concat(df_reu_list)\n",
    "df_reu.to_csv(PATH+'reuters_2008.csv.gz', compression='gzip', index=False)"
   ]
  },
  {
   "cell_type": "code",
   "execution_count": 56,
   "metadata": {
    "ExecuteTime": {
     "end_time": "2018-10-19T16:06:39.375505Z",
     "start_time": "2018-10-19T16:06:39.274018Z"
    }
   },
   "outputs": [
    {
     "name": "stdout",
     "output_type": "stream",
     "text": [
      "<class 'pandas.core.frame.DataFrame'>\n",
      "Int64Index: 771666 entries, 1 to 2905\n",
      "Data columns (total 2 columns):\n",
      "Time         771666 non-null datetime64[ns]\n",
      "Short_Msg    771666 non-null object\n",
      "dtypes: datetime64[ns](1), object(1)\n",
      "memory usage: 17.7+ MB\n"
     ]
    }
   ],
   "source": [
    "df_reu.info()"
   ]
  },
  {
   "cell_type": "code",
   "execution_count": 10,
   "metadata": {
    "ExecuteTime": {
     "end_time": "2018-10-19T14:57:06.852718Z",
     "start_time": "2018-10-19T14:57:06.737470Z"
    }
   },
   "outputs": [
    {
     "name": "stdout",
     "output_type": "stream",
     "text": [
      ";;;\r",
      "\r\n",
      "Sun Feb 24 04:45:00 UTC 2008;PRESS DIGEST - British Business press - Feb 24 =6;\" Fast food chain Eat is believed to be ready to start sounding out potential suitors in the next few months, though it has yet to appoint financial advisers; people close to the situation said, however, that the firm's shareholders, who would take a significant sum in the event of a sale, are likely to do so before long. Founded in 1996 by Niall and Faith MacArthur, Eat has in the region of 90 British outlets. Private equity group Penta Capital acquired 3i's (3IN.L) 42 percent stake in August 2005, during a refinancing of the business. RIO TINTO DIGS FOR COAL MINE BUYER Credit Suisse has been appointed by Rio Tinto (RIO.L) to find a suitor for its non-core coal assets, in an exercise that forms part of its $15 billion disposal programme to streamline its operations in the wake of last year's $38 billion Alcan acquisition. Rio, which will only put sites on the market that have reserves considered too small for it to mine in a cost-effective manner, has accelerated the disposal programme following BHP Billiton's (BLT.L) 70 billion pounds hostile bid. Earlier in February this year, it announced its first disposal: Alaska's Greens Creek gold and silver mine. LSE MOUNTS SOUTH AMERICAN PUSH FILED UNDER: Stocks Mutual Fund Center Email Print Reprints \";http://www.reuters.com/article/companyNews/idUSL2441636320080224\r",
      "\r\n",
      ";;;http://www.reuters.com/article/pressRelease/idUS19354+24-Feb-2008+PRN20080224\r",
      "\r\n",
      ";;;http://www.reuters.com/article/pressRelease/idUS18520+24-Feb-2008+PRN20080224\r",
      "\r\n",
      ";;;http://www.reuters.com/article/pressRelease/idUS18515+24-Feb-2008+PRN20080224\r",
      "\r\n",
      ";;;http://www.reuters.com/article/pressRelease/idUS17796+24-Feb-2008+PRN20080224\r",
      "\r\n",
      "Sun Feb 24 03:22:52 UTC 2008;Pagliarini wins stage, Leipheimer holds California lead;\" SANTA CLARITA, California (Reuters) - Luciano Pagliarini of Brazil was awarded victory on the sixth stage of the Tour of California on Saturday after Britain's Mark Cavendish was relegated for riding behind a vehicle. Pagliarini had actually finished second to Cavendish in a sprint to the line, but the Briton was penalized 20 seconds for riding behind a vehicle with about four kilometers left and was dropped to 74th place on the stage. Champion Levi Leipheimer finished the 175km stage from Santa Barbara in the pack and retained his 49-second lead over Britain's David Millar, while Millar's Slipstream team mate Christian Vandevelde is third overall, a further 19 seconds back.\"\" I'm very happy,\"\" said Pagliarini, who finished the stage in a time of four hours, 18 minutes and 31 seconds. \"\"But it's not like a win with your hands up. I was second and now I am first.\"\" Juan Jose Haedo of Argentina, who won the first stage, was officially classified as second behind Pagliarini with Italy's Paolo Bettini in third. The final stage of the 1,046-kilometre race on Sunday includes the ascent of Millcreek Summit, the highest point in the race at 1,495 meters.\"\" It's a big climb, but we have shown we have the strongest team in the mountains,\"\" said Astana's Leipheimer, who finished third at last year's Tour de France.\"\" The team is riding exceptionally strong. So they can definitely do it.\"\"(Reporting by James Raia; Editing by Greg Stutchbury) FILED UNDER: Sports Email Print Reprints \";http://www.reuters.com/article/sportsNews/idUSSP22154520080224\r",
      "\r\n",
      "Sun Feb 24 03:08:27 UTC 2008;World champion Walker tops U.S. pole vault field;\" BOSTON (Reuters) - World champion Brad Walker easily won the pole vault on Saturday to highlight the opening day of the U.S. selection meeting for next month's world indoor championships. Walker cleared 5.70m on his first attempt to claim the U.S. title, then missed three times at 5.85m.\"\" I had gotten a little banged up in a meet in Glasgow, Scotland. My ankles and feet took a hit in the plant box,\"\" Walker told reporters. \"\"But I'm pretty much back to normal now.\"\" The world indoor and outdoor champion said he hoped to win more gold in the March 7-9 IAAF world indoor championships in Valencia, Spain.\"\" This was the plan from the beginning to compete indoors, head for the world indoors and then begin gearing up for the outdoor trials,\"\" he said. Rory Quiller finished second, on misses, ahead of Olympic silver medalist Toby Stevenson and 35-year-old Olympian Derek Miles. All cleared 5.60m. The top two finishers in each event are eligible for the world championships. Other winners included Matt Tegenkamp, 8:02.52 in the 3,000m; Aarik Wilson, 16.91m in the triple jump; former world junior champion Andra Manson, 2.30m in the high jump; and Christin Wurth-Thomas, 4:14.21 in the women's 1,500m. The U.S. championships conclude on Sunday with Olympic silver medalist Adam Nelson and world indoor and outdoor champion Reese Hoffa highlighting a world-class shot put competition. World indoor 60m champion Leonard Scott and 1996 Olympic hurdles gold medalist Allen Johnson, who celebrates his 37th birthday next month, also will seek U.S. titles. Many top Americans, including world outdoor champions Tyson Gay, Bernard Lagat, Jeremy Wariner and Allyson Felix, skipped the meeting to continue preparations for August's Beijing Olympics.(Writing by Gene Cherry in Raleigh, North Carolina; Editing by Greg Stutchbury) FILED UNDER: Sports Email Print Reprints \";http://www.reuters.com/article/sportsNews/idUSSP21942220080224\r",
      "\r\n",
      ";;;http://www.reuters.com/article/pressRelease/idUS17010+24-Feb-2008+PRN20080224\r",
      "\r\n",
      "Sun Feb 24 02:54:04 UTC 2008;Turkish strike won't solve PKK problem-U.S.'s Gates;;http://www.reuters.com/article/latestCrisis/idUSN23594100\r",
      "\r\n"
     ]
    }
   ],
   "source": [
    "#!head ../finanz_vs_news/Reuters_US/reuters_us_news_20080223.csv"
   ]
  },
  {
   "cell_type": "code",
   "execution_count": null,
   "metadata": {},
   "outputs": [],
   "source": []
  }
 ],
 "metadata": {
  "kernelspec": {
   "display_name": "Python 3",
   "language": "python",
   "name": "python3"
  },
  "language_info": {
   "codemirror_mode": {
    "name": "ipython",
    "version": 3
   },
   "file_extension": ".py",
   "mimetype": "text/x-python",
   "name": "python",
   "nbconvert_exporter": "python",
   "pygments_lexer": "ipython3",
   "version": "3.6.6"
  },
  "toc": {
   "base_numbering": 1,
   "nav_menu": {},
   "number_sections": true,
   "sideBar": true,
   "skip_h1_title": false,
   "title_cell": "Table of Contents",
   "title_sidebar": "Contents",
   "toc_cell": false,
   "toc_position": {},
   "toc_section_display": true,
   "toc_window_display": false
  }
 },
 "nbformat": 4,
 "nbformat_minor": 2
}
