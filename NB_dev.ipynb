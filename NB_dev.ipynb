{
 "cells": [
  {
   "cell_type": "code",
   "execution_count": 577,
   "metadata": {
    "ExecuteTime": {
     "end_time": "2018-10-19T14:36:04.731383Z",
     "start_time": "2018-10-19T14:36:03.628622Z"
    }
   },
   "outputs": [],
   "source": [
    "import os\n",
    "import numpy as np\n",
    "import pandas as pd\n",
    "import warnings\n",
    "warnings.simplefilter(action='ignore', category=FutureWarning)\n",
    "import matplotlib.pyplot as plt\n",
    "import seaborn as sns\n",
    "%matplotlib inline\n",
    "import copy"
   ]
  },
  {
   "cell_type": "code",
   "execution_count": 11,
   "metadata": {
    "ExecuteTime": {
     "end_time": "2018-10-19T14:36:16.253164Z",
     "start_time": "2018-10-19T14:36:16.250456Z"
    }
   },
   "outputs": [],
   "source": [
    "#PATH = '../finanz_vs_news'\n",
    "PATH = r'..\\HackathonDaten\\Nachrichten und Kurse\\\\'\n",
    "#PATH = ''"
   ]
  },
  {
   "cell_type": "code",
   "execution_count": 166,
   "metadata": {},
   "outputs": [],
   "source": [
    "#############################################################\n",
    "#### example how to read the daily stock rates with PATH ####\n",
    "companyLabel = 'A'    # label of company to load / last column\n",
    "df_stock = pd.read_csv(PATH+'StocksDaily\\ALL_2007-01-01_2017-10-16.csv', parse_dates=[\"Date\"])\n",
    "StockTickers = df_stock['ticker'].unique()\n",
    "df_stock = df_stock[df_stock['ticker']=='A']\n",
    "# save data to pickle\n",
    "df_stock.to_pickle(PATH+'StocksDaily\\stock_'+companyLabel+'.pickle')"
   ]
  },
  {
   "cell_type": "code",
   "execution_count": 168,
   "metadata": {},
   "outputs": [],
   "source": [
    "# read in data\n",
    "df_stock = pd.read_pickle(PATH+'StocksDaily\\stock_'+companyLabel+'.pickle')"
   ]
  },
  {
   "cell_type": "code",
   "execution_count": 712,
   "metadata": {},
   "outputs": [
    {
     "name": "stderr",
     "output_type": "stream",
     "text": [
      "C:\\ProgramData\\Anaconda3\\lib\\site-packages\\ipykernel_launcher.py:36: SettingWithCopyWarning: \n",
      "A value is trying to be set on a copy of a slice from a DataFrame.\n",
      "Try using .loc[row_indexer,col_indexer] = value instead\n",
      "\n",
      "See the caveats in the documentation: http://pandas.pydata.org/pandas-docs/stable/indexing.html#indexing-view-versus-copy\n"
     ]
    }
   ],
   "source": [
    "#####################################\n",
    "#### dictionary for stock labels ####\n",
    "# get the ticker from our data\n",
    "df_dummy = pd.read_csv(PATH+'StocksDaily\\ALL_2007-01-01_2017-10-16.csv', parse_dates=[\"Date\"])\n",
    "StockTickers = df_dummy['ticker'].unique()   # get the unique tickers once\n",
    "# read in dic with all tickers worldwide\n",
    "TickerAll = pd.read_csv('Yahoo Ticker Symbols - September 2017.csv', delimiter=';')\n",
    "# delete unneeded columns\n",
    "del TickerAll['Country']\n",
    "del TickerAll['Exchange']\n",
    "# select onyl the ticker of the companies we have\n",
    "TickerDic = TickerAll.loc[TickerAll['Ticker'].isin(StockTickers)]\n",
    "\n",
    "namescat = copy.deepcopy(TickerDic['Name'].str.cat(sep = ' '))\n",
    "namescat = namescat.replace(',' , ' ')\n",
    "namescat = namescat.replace('.' , ' ')\n",
    "namescat = namescat.split(' ')\n",
    "namescat = pd.Series(namescat)\n",
    "toDel = namescat.value_counts()[:24]\n",
    "toDel = toDel.index.tolist()\n",
    "\n",
    "del toDel[7]\n",
    "del toDel[toDel == ' ']\n",
    "# take longes ones first, otherwise in replace string one might only replace parts, leaving a rest\n",
    "toDel.sort(key = lambda x: len(x), reverse=True)\n",
    "\n",
    "shortName = copy.deepcopy(TickerDic['Name'].values)\n",
    "\n",
    "for jj, dummy in enumerate(shortName):\n",
    "    for ii in toDel:\n",
    "        dummy = dummy.replace(',','')\n",
    "        dummy = dummy.replace('.','')\n",
    "        dummy = dummy.replace(' ' + ii,'')\n",
    "        shortName[jj] = dummy\n",
    "        \n",
    "TickerDic['RedName'] = shortName\n",
    "# save dictionary\n",
    "TickerDic.to_pickle('TickerDic.pickle')"
   ]
  },
  {
   "cell_type": "code",
   "execution_count": 717,
   "metadata": {},
   "outputs": [
    {
     "data": {
      "text/html": [
       "<div>\n",
       "<style scoped>\n",
       "    .dataframe tbody tr th:only-of-type {\n",
       "        vertical-align: middle;\n",
       "    }\n",
       "\n",
       "    .dataframe tbody tr th {\n",
       "        vertical-align: top;\n",
       "    }\n",
       "\n",
       "    .dataframe thead th {\n",
       "        text-align: right;\n",
       "    }\n",
       "</style>\n",
       "<table border=\"1\" class=\"dataframe\">\n",
       "  <thead>\n",
       "    <tr style=\"text-align: right;\">\n",
       "      <th></th>\n",
       "      <th>Ticker</th>\n",
       "      <th>Name</th>\n",
       "      <th>Category Name</th>\n",
       "      <th>RedName</th>\n",
       "    </tr>\n",
       "  </thead>\n",
       "  <tbody>\n",
       "    <tr>\n",
       "      <th>0</th>\n",
       "      <td>AFL</td>\n",
       "      <td>Aflac Incorporated</td>\n",
       "      <td>Accident &amp; Health Insurance</td>\n",
       "      <td>Aflac</td>\n",
       "    </tr>\n",
       "    <tr>\n",
       "      <th>1</th>\n",
       "      <td>AIZ</td>\n",
       "      <td>Assurant, Inc.</td>\n",
       "      <td>Accident &amp; Health Insurance</td>\n",
       "      <td>Assurant</td>\n",
       "    </tr>\n",
       "    <tr>\n",
       "      <th>23</th>\n",
       "      <td>UNM</td>\n",
       "      <td>Unum Group</td>\n",
       "      <td>Accident &amp; Health Insurance</td>\n",
       "      <td>Unum</td>\n",
       "    </tr>\n",
       "    <tr>\n",
       "      <th>52</th>\n",
       "      <td>IPG</td>\n",
       "      <td>The Interpublic Group of Companies, Inc.</td>\n",
       "      <td>Advertising Agencies</td>\n",
       "      <td>The Interpublic</td>\n",
       "    </tr>\n",
       "    <tr>\n",
       "      <th>57</th>\n",
       "      <td>OMC</td>\n",
       "      <td>Omnicom Group Inc.</td>\n",
       "      <td>Advertising Agencies</td>\n",
       "      <td>Omnicom</td>\n",
       "    </tr>\n",
       "  </tbody>\n",
       "</table>\n",
       "</div>"
      ],
      "text/plain": [
       "   Ticker                                      Name  \\\n",
       "0     AFL                        Aflac Incorporated   \n",
       "1     AIZ                            Assurant, Inc.   \n",
       "23    UNM                                Unum Group   \n",
       "52    IPG  The Interpublic Group of Companies, Inc.   \n",
       "57    OMC                        Omnicom Group Inc.   \n",
       "\n",
       "                  Category Name          RedName  \n",
       "0   Accident & Health Insurance            Aflac  \n",
       "1   Accident & Health Insurance         Assurant  \n",
       "23  Accident & Health Insurance             Unum  \n",
       "52         Advertising Agencies  The Interpublic  \n",
       "57         Advertising Agencies          Omnicom  "
      ]
     },
     "execution_count": 717,
     "metadata": {},
     "output_type": "execute_result"
    }
   ],
   "source": [
    "TickerDic.head()"
   ]
  },
  {
   "cell_type": "code",
   "execution_count": 726,
   "metadata": {},
   "outputs": [],
   "source": [
    "# load dictionary\n",
    "TickerDic = pd.read_pickle('TickerDic.pickle')"
   ]
  },
  {
   "cell_type": "code",
   "execution_count": 771,
   "metadata": {},
   "outputs": [
    {
     "name": "stderr",
     "output_type": "stream",
     "text": [
      "C:\\ProgramData\\Anaconda3\\lib\\site-packages\\IPython\\core\\interactiveshell.py:2785: DtypeWarning: Columns (6) have mixed types. Specify dtype option on import or set low_memory=False.\n",
      "  interactivity=interactivity, compiler=compiler, result=result)\n"
     ]
    },
    {
     "data": {
      "text/plain": [
       "85081               LOSS\n",
       "85005             LOSSES\n",
       "84942        TERMINATION\n",
       "84917            AGAINST\n",
       "84829            DEFAULT\n",
       "84795            CLOSING\n",
       "84786         IMPAIRMENT\n",
       "84775            ADVERSE\n",
       "84704          ADVERSELY\n",
       "84627            FAILURE\n",
       "84585         LITIGATION\n",
       "84582          DISCLOSED\n",
       "84505         LIMITATION\n",
       "84479           RESTATED\n",
       "84377            DAMAGES\n",
       "84373         TERMINATED\n",
       "84349      RESTRUCTURING\n",
       "84348          TERMINATE\n",
       "84328             BREACH\n",
       "84321             UNABLE\n",
       "84319            DECLINE\n",
       "84307         BANKRUPTCY\n",
       "84246              FORCE\n",
       "84236             CLAIMS\n",
       "84174        LIMITATIONS\n",
       "84148             UNPAID\n",
       "84126       DISCONTINUED\n",
       "84105        LIQUIDATION\n",
       "84052              FRAUD\n",
       "84009           CRITICAL\n",
       "              ...       \n",
       "32922        DISAPPOINTS\n",
       "33087        MISLABELLED\n",
       "33165       QUESTIONABLY\n",
       "32724       SUSPICIOUSLY\n",
       "32240         ABRUPTNESS\n",
       "32098          RIDICULED\n",
       "31754         DENIGRATED\n",
       "31631        ABUSIVENESS\n",
       "31428       RETALIATIONS\n",
       "31219     INCARCERATIONS\n",
       "30324    DISINTERESTEDLY\n",
       "30322          DISGORGES\n",
       "30319       DISASTROUSLY\n",
       "30310        DETERRENCES\n",
       "30297        DEADLOCKING\n",
       "30273        CORRUPTNESS\n",
       "29862          REDRESSES\n",
       "29310       CONCILIATING\n",
       "29880       RETRIBUTIONS\n",
       "28216      DISGRACEFULLY\n",
       "28046          BRIBERIES\n",
       "28603        NEGLIGENCES\n",
       "28178      DECEITFULNESS\n",
       "27468      RENOUNCEMENTS\n",
       "27277       OVERPRODUCES\n",
       "26256        ABROGATIONS\n",
       "27872         VULNERABLY\n",
       "26636           DISMALLY\n",
       "23555          ABDICATES\n",
       "12           ABDICATIONS\n",
       "Name: Word, Length: 2355, dtype: object"
      ]
     },
     "execution_count": 771,
     "metadata": {},
     "output_type": "execute_result"
    }
   ],
   "source": [
    "#########################################\n",
    "### LoughranMcDonald MasterDictionary ###\n",
    "MasterDic = pd.read_csv('LoughranMcDonald_MasterDictionary_2016.csv', delimiter=';')\n",
    "\n",
    "# get positive words\n",
    "PosDic = MasterDic[MasterDic['Positive'] !=0]\n",
    "PosDic = PosDic.sort_values(by=['Word Count'], ascending=False)\n",
    "PostDic = PosDic['Word']\n",
    "# save dictionary\n",
    "PostDic.to_pickle('DicPositiveWords.pickle')\n",
    "\n",
    "# get negative words\n",
    "NegDic = MasterDic[MasterDic['Negative'] !=0]\n",
    "NegDic = NegDic.sort_values(by=['Word Count'], ascending=False)\n",
    "NegDic = NegDic['Word']\n",
    "# save dictionary\n",
    "NegDic.to_pickle('DicNegativeWords.pickle') "
   ]
  },
  {
   "cell_type": "code",
   "execution_count": null,
   "metadata": {},
   "outputs": [],
   "source": []
  }
 ],
 "metadata": {
  "kernelspec": {
   "display_name": "Python 3",
   "language": "python",
   "name": "python3"
  },
  "language_info": {
   "codemirror_mode": {
    "name": "ipython",
    "version": 3
   },
   "file_extension": ".py",
   "mimetype": "text/x-python",
   "name": "python",
   "nbconvert_exporter": "python",
   "pygments_lexer": "ipython3",
   "version": "3.7.0"
  },
  "toc": {
   "base_numbering": 1,
   "nav_menu": {},
   "number_sections": true,
   "sideBar": true,
   "skip_h1_title": false,
   "title_cell": "Table of Contents",
   "title_sidebar": "Contents",
   "toc_cell": false,
   "toc_position": {},
   "toc_section_display": true,
   "toc_window_display": false
  }
 },
 "nbformat": 4,
 "nbformat_minor": 2
}
