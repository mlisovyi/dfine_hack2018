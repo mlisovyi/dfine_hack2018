{
 "cells": [
  {
   "cell_type": "code",
   "execution_count": 1,
   "metadata": {
    "ExecuteTime": {
     "end_time": "2018-10-19T17:01:14.238471Z",
     "start_time": "2018-10-19T17:01:13.357434Z"
    }
   },
   "outputs": [],
   "source": [
    "import os\n",
    "import numpy as np\n",
    "import pandas as pd\n",
    "import warnings\n",
    "warnings.simplefilter(action='ignore', category=FutureWarning)\n",
    "import matplotlib.pyplot as plt\n",
    "import seaborn as sns"
   ]
  },
  {
   "cell_type": "code",
   "execution_count": 3,
   "metadata": {
    "ExecuteTime": {
     "end_time": "2018-10-19T17:02:30.290231Z",
     "start_time": "2018-10-19T17:02:30.286478Z"
    }
   },
   "outputs": [],
   "source": [
    "PATH = '../finanz_vs_news/'"
   ]
  },
  {
   "cell_type": "code",
   "execution_count": 12,
   "metadata": {
    "ExecuteTime": {
     "end_time": "2018-10-19T17:07:19.723380Z",
     "start_time": "2018-10-19T17:07:17.606333Z"
    }
   },
   "outputs": [],
   "source": [
    "df_reu = pd.read_csv(PATH+'reuters_2008.csv.gz', parse_dates=['Time']).set_index('Time')"
   ]
  },
  {
   "cell_type": "code",
   "execution_count": 13,
   "metadata": {
    "ExecuteTime": {
     "end_time": "2018-10-19T17:07:19.793809Z",
     "start_time": "2018-10-19T17:07:19.725604Z"
    }
   },
   "outputs": [
    {
     "name": "stdout",
     "output_type": "stream",
     "text": [
      "<class 'pandas.core.frame.DataFrame'>\n",
      "DatetimeIndex: 771666 entries, 2008-01-02 04:59:53 to 2008-08-20 04:00:00\n",
      "Data columns (total 1 columns):\n",
      "Short_Msg    771666 non-null object\n",
      "dtypes: object(1)\n",
      "memory usage: 11.8+ MB\n"
     ]
    }
   ],
   "source": [
    "df_reu.info()"
   ]
  },
  {
   "cell_type": "code",
   "execution_count": 36,
   "metadata": {
    "ExecuteTime": {
     "end_time": "2018-10-19T17:19:47.245645Z",
     "start_time": "2018-10-19T17:19:47.213549Z"
    }
   },
   "outputs": [],
   "source": [
    "#temporary measure to reduce suspicious dates\n",
    "df_reu = df_reu.loc['2008',:]"
   ]
  },
  {
   "cell_type": "code",
   "execution_count": 68,
   "metadata": {
    "ExecuteTime": {
     "end_time": "2018-10-19T18:51:35.232926Z",
     "start_time": "2018-10-19T18:51:35.227300Z"
    }
   },
   "outputs": [],
   "source": [
    "import helpers"
   ]
  },
  {
   "cell_type": "code",
   "execution_count": null,
   "metadata": {},
   "outputs": [],
   "source": [
    "helpers.count_sensitive_words()"
   ]
  }
 ],
 "metadata": {
  "kernelspec": {
   "display_name": "Python 3",
   "language": "python",
   "name": "python3"
  },
  "language_info": {
   "codemirror_mode": {
    "name": "ipython",
    "version": 3
   },
   "file_extension": ".py",
   "mimetype": "text/x-python",
   "name": "python",
   "nbconvert_exporter": "python",
   "pygments_lexer": "ipython3",
   "version": "3.6.6"
  },
  "toc": {
   "base_numbering": 1,
   "nav_menu": {},
   "number_sections": true,
   "sideBar": true,
   "skip_h1_title": false,
   "title_cell": "Table of Contents",
   "title_sidebar": "Contents",
   "toc_cell": false,
   "toc_position": {},
   "toc_section_display": true,
   "toc_window_display": false
  }
 },
 "nbformat": 4,
 "nbformat_minor": 2
}
