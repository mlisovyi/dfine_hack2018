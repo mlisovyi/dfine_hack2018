{
 "cells": [
  {
   "cell_type": "code",
   "execution_count": 1,
   "metadata": {
    "ExecuteTime": {
     "end_time": "2018-10-20T13:20:16.150699Z",
     "start_time": "2018-10-20T13:20:14.830095Z"
    }
   },
   "outputs": [],
   "source": [
    "import os\n",
    "import numpy as np\n",
    "import pandas as pd\n",
    "import warnings\n",
    "warnings.simplefilter(action='ignore', category=FutureWarning)\n",
    "import matplotlib.pyplot as plt\n",
    "import seaborn as sns"
   ]
  },
  {
   "cell_type": "code",
   "execution_count": 2,
   "metadata": {
    "ExecuteTime": {
     "end_time": "2018-10-20T13:20:16.154325Z",
     "start_time": "2018-10-20T13:20:16.152040Z"
    }
   },
   "outputs": [],
   "source": [
    "import gc\n",
    "gc.enable()"
   ]
  },
  {
   "cell_type": "code",
   "execution_count": 3,
   "metadata": {
    "ExecuteTime": {
     "end_time": "2018-10-20T13:20:16.160103Z",
     "start_time": "2018-10-20T13:20:16.157209Z"
    }
   },
   "outputs": [],
   "source": [
    "PATH = '../finanz_vs_news/'"
   ]
  },
  {
   "cell_type": "code",
   "execution_count": 4,
   "metadata": {
    "ExecuteTime": {
     "end_time": "2018-10-20T13:20:18.331806Z",
     "start_time": "2018-10-20T13:20:16.163386Z"
    }
   },
   "outputs": [],
   "source": [
    "df_reu = pd.read_csv(PATH+'reuters_2008.csv.gz', parse_dates=['Time']).set_index('Time')"
   ]
  },
  {
   "cell_type": "code",
   "execution_count": 5,
   "metadata": {
    "ExecuteTime": {
     "end_time": "2018-10-20T13:20:18.394837Z",
     "start_time": "2018-10-20T13:20:18.334171Z"
    }
   },
   "outputs": [
    {
     "name": "stdout",
     "output_type": "stream",
     "text": [
      "<class 'pandas.core.frame.DataFrame'>\n",
      "DatetimeIndex: 771666 entries, 2008-01-02 04:59:53 to 2008-08-20 04:00:00\n",
      "Data columns (total 1 columns):\n",
      "Short_Msg    771666 non-null object\n",
      "dtypes: object(1)\n",
      "memory usage: 11.8+ MB\n"
     ]
    }
   ],
   "source": [
    "df_reu.info()"
   ]
  },
  {
   "cell_type": "code",
   "execution_count": 6,
   "metadata": {
    "ExecuteTime": {
     "end_time": "2018-10-20T13:20:18.465808Z",
     "start_time": "2018-10-20T13:20:18.396804Z"
    }
   },
   "outputs": [],
   "source": [
    "#temporary measure to reduce suspicious dates\n",
    "df_reu = df_reu.loc['2008',:]"
   ]
  },
  {
   "cell_type": "markdown",
   "metadata": {},
   "source": [
    "### Read in company ticker names"
   ]
  },
  {
   "cell_type": "code",
   "execution_count": 7,
   "metadata": {
    "ExecuteTime": {
     "end_time": "2018-10-20T13:20:18.475370Z",
     "start_time": "2018-10-20T13:20:18.468164Z"
    }
   },
   "outputs": [],
   "source": [
    "companies = pd.read_pickle('TickerDic.pickle')"
   ]
  },
  {
   "cell_type": "code",
   "execution_count": 8,
   "metadata": {
    "ExecuteTime": {
     "end_time": "2018-10-20T13:20:18.498314Z",
     "start_time": "2018-10-20T13:20:18.477661Z"
    }
   },
   "outputs": [
    {
     "data": {
      "text/html": [
       "<div>\n",
       "<style scoped>\n",
       "    .dataframe tbody tr th:only-of-type {\n",
       "        vertical-align: middle;\n",
       "    }\n",
       "\n",
       "    .dataframe tbody tr th {\n",
       "        vertical-align: top;\n",
       "    }\n",
       "\n",
       "    .dataframe thead th {\n",
       "        text-align: right;\n",
       "    }\n",
       "</style>\n",
       "<table border=\"1\" class=\"dataframe\">\n",
       "  <thead>\n",
       "    <tr style=\"text-align: right;\">\n",
       "      <th></th>\n",
       "      <th>Ticker</th>\n",
       "      <th>Name</th>\n",
       "      <th>Category Name</th>\n",
       "      <th>RedName</th>\n",
       "    </tr>\n",
       "  </thead>\n",
       "  <tbody>\n",
       "    <tr>\n",
       "      <th>0</th>\n",
       "      <td>AFL</td>\n",
       "      <td>Aflac Incorporated</td>\n",
       "      <td>Accident &amp; Health Insurance</td>\n",
       "      <td>Aflac</td>\n",
       "    </tr>\n",
       "    <tr>\n",
       "      <th>1</th>\n",
       "      <td>AIZ</td>\n",
       "      <td>Assurant, Inc.</td>\n",
       "      <td>Accident &amp; Health Insurance</td>\n",
       "      <td>Assurant</td>\n",
       "    </tr>\n",
       "    <tr>\n",
       "      <th>23</th>\n",
       "      <td>UNM</td>\n",
       "      <td>Unum Group</td>\n",
       "      <td>Accident &amp; Health Insurance</td>\n",
       "      <td>Unum</td>\n",
       "    </tr>\n",
       "    <tr>\n",
       "      <th>52</th>\n",
       "      <td>IPG</td>\n",
       "      <td>The Interpublic Group of Companies, Inc.</td>\n",
       "      <td>Advertising Agencies</td>\n",
       "      <td>Interpublic</td>\n",
       "    </tr>\n",
       "    <tr>\n",
       "      <th>57</th>\n",
       "      <td>OMC</td>\n",
       "      <td>Omnicom Group Inc.</td>\n",
       "      <td>Advertising Agencies</td>\n",
       "      <td>Omnicom</td>\n",
       "    </tr>\n",
       "  </tbody>\n",
       "</table>\n",
       "</div>"
      ],
      "text/plain": [
       "   Ticker                                      Name  \\\n",
       "0     AFL                        Aflac Incorporated   \n",
       "1     AIZ                            Assurant, Inc.   \n",
       "23    UNM                                Unum Group   \n",
       "52    IPG  The Interpublic Group of Companies, Inc.   \n",
       "57    OMC                        Omnicom Group Inc.   \n",
       "\n",
       "                  Category Name      RedName  \n",
       "0   Accident & Health Insurance        Aflac  \n",
       "1   Accident & Health Insurance     Assurant  \n",
       "23  Accident & Health Insurance         Unum  \n",
       "52         Advertising Agencies  Interpublic  \n",
       "57         Advertising Agencies      Omnicom  "
      ]
     },
     "execution_count": 8,
     "metadata": {},
     "output_type": "execute_result"
    }
   ],
   "source": [
    "companies.head()"
   ]
  },
  {
   "cell_type": "code",
   "execution_count": 9,
   "metadata": {
    "ExecuteTime": {
     "end_time": "2018-10-20T13:20:18.504162Z",
     "start_time": "2018-10-20T13:20:18.500238Z"
    }
   },
   "outputs": [],
   "source": [
    "company_names = companies['RedName'].tolist()"
   ]
  },
  {
   "cell_type": "code",
   "execution_count": 10,
   "metadata": {
    "ExecuteTime": {
     "end_time": "2018-10-20T13:20:18.519166Z",
     "start_time": "2018-10-20T13:20:18.505984Z"
    }
   },
   "outputs": [
    {
     "data": {
      "text/html": [
       "<div>\n",
       "<style scoped>\n",
       "    .dataframe tbody tr th:only-of-type {\n",
       "        vertical-align: middle;\n",
       "    }\n",
       "\n",
       "    .dataframe tbody tr th {\n",
       "        vertical-align: top;\n",
       "    }\n",
       "\n",
       "    .dataframe thead th {\n",
       "        text-align: right;\n",
       "    }\n",
       "</style>\n",
       "<table border=\"1\" class=\"dataframe\">\n",
       "  <thead>\n",
       "    <tr style=\"text-align: right;\">\n",
       "      <th></th>\n",
       "      <th>Ticker</th>\n",
       "      <th>Name</th>\n",
       "      <th>Category Name</th>\n",
       "      <th>RedName</th>\n",
       "    </tr>\n",
       "  </thead>\n",
       "  <tbody>\n",
       "    <tr>\n",
       "      <th>12065</th>\n",
       "      <td>MS</td>\n",
       "      <td>Morgan Stanley</td>\n",
       "      <td>Investment Brokerage - National</td>\n",
       "      <td>Morgan Stanley</td>\n",
       "    </tr>\n",
       "  </tbody>\n",
       "</table>\n",
       "</div>"
      ],
      "text/plain": [
       "      Ticker            Name                    Category Name         RedName\n",
       "12065     MS  Morgan Stanley  Investment Brokerage - National  Morgan Stanley"
      ]
     },
     "execution_count": 10,
     "metadata": {},
     "output_type": "execute_result"
    }
   ],
   "source": [
    "companies.query('RedName == \"Morgan Stanley\"')"
   ]
  },
  {
   "cell_type": "markdown",
   "metadata": {},
   "source": [
    "### Red in neg/pos dictionaries"
   ]
  },
  {
   "cell_type": "code",
   "execution_count": 11,
   "metadata": {
    "ExecuteTime": {
     "end_time": "2018-10-20T13:20:18.530704Z",
     "start_time": "2018-10-20T13:20:18.520625Z"
    }
   },
   "outputs": [],
   "source": [
    "pos_words = pd.read_pickle('DicPositiveWords.pickle')\n",
    "neg_words = pd.read_pickle('DicNegativeWords.pickle')"
   ]
  },
  {
   "cell_type": "markdown",
   "metadata": {},
   "source": [
    "### Do bag of words"
   ]
  },
  {
   "cell_type": "code",
   "execution_count": 23,
   "metadata": {
    "ExecuteTime": {
     "end_time": "2018-10-20T13:45:30.178634Z",
     "start_time": "2018-10-20T13:45:30.166305Z"
    }
   },
   "outputs": [],
   "source": [
    "import helpers"
   ]
  },
  {
   "cell_type": "code",
   "execution_count": 24,
   "metadata": {
    "ExecuteTime": {
     "end_time": "2018-10-20T13:53:14.111863Z",
     "start_time": "2018-10-20T13:45:31.422181Z"
    }
   },
   "outputs": [],
   "source": [
    "media_attention = helpers.count_sensitive_words(df_reu.copy(deep=True), \n",
    "                                        [\"Morgan Stanley\", \"Goldman Sachs\", \"BlackRock\"]+[{'positive': pos_words.values.tolist()},\n",
    "                                                       {'negative': neg_words.values.tolist()}\n",
    "                                                      ], \n",
    "                                        companies_neg_pos=[\"Morgan Stanley\", \"Goldman Sachs\", \"BlackRock\"])"
   ]
  },
  {
   "cell_type": "code",
   "execution_count": 33,
   "metadata": {
    "ExecuteTime": {
     "end_time": "2018-10-20T14:12:48.847969Z",
     "start_time": "2018-10-20T14:12:48.832229Z"
    }
   },
   "outputs": [],
   "source": [
    "media_attention = helpers.fe(media_attention)"
   ]
  },
  {
   "cell_type": "code",
   "execution_count": 35,
   "metadata": {
    "ExecuteTime": {
     "end_time": "2018-10-20T14:13:06.383823Z",
     "start_time": "2018-10-20T14:13:06.374196Z"
    }
   },
   "outputs": [
    {
     "name": "stdout",
     "output_type": "stream",
     "text": [
      "<class 'pandas.core.frame.DataFrame'>\n",
      "DatetimeIndex: 366 entries, 2008-01-01 to 2008-12-31\n",
      "Freq: D\n",
      "Data columns (total 23 columns):\n",
      "Morgan_Stanley_count             366 non-null int64\n",
      "Goldman_Sachs_count              366 non-null int64\n",
      "BlackRock_count                  366 non-null int64\n",
      "positive_count                   366 non-null int64\n",
      "negative_count                   366 non-null int64\n",
      "Morgan_Stanley_positive_count    366 non-null int64\n",
      "Morgan_Stanley_negative_count    366 non-null int64\n",
      "Goldman_Sachs_positive_count     366 non-null int64\n",
      "Goldman_Sachs_negative_count     366 non-null int64\n",
      "BlackRock_positive_count         366 non-null int64\n",
      "BlackRock_negative_count         366 non-null int64\n",
      "total_msg_count                  366 non-null int64\n",
      "Morgan_Stanley_frac              366 non-null float64\n",
      "Goldman_Sachs_frac               366 non-null float64\n",
      "BlackRock_frac                   366 non-null float64\n",
      "positive_frac                    366 non-null float64\n",
      "negative_frac                    366 non-null float64\n",
      "Morgan_Stanley_positive_frac     366 non-null float64\n",
      "Morgan_Stanley_negative_frac     366 non-null float64\n",
      "Goldman_Sachs_positive_frac      366 non-null float64\n",
      "Goldman_Sachs_negative_frac      366 non-null float64\n",
      "BlackRock_positive_frac          366 non-null float64\n",
      "BlackRock_negative_frac          366 non-null float64\n",
      "dtypes: float64(11), int64(12)\n",
      "memory usage: 68.6 KB\n"
     ]
    }
   ],
   "source": [
    "media_attention.info()"
   ]
  },
  {
   "cell_type": "code",
   "execution_count": 27,
   "metadata": {
    "ExecuteTime": {
     "end_time": "2018-10-20T14:01:10.374106Z",
     "start_time": "2018-10-20T14:01:10.367832Z"
    }
   },
   "outputs": [
    {
     "data": {
      "text/plain": [
       "total_msg_count                  771472\n",
       "negative_count                   266333\n",
       "positive_count                   125720\n",
       "Morgan_Stanley_count               3726\n",
       "Morgan_Stanley_negative_count      2453\n",
       "Goldman_Sachs_count                2302\n",
       "Goldman_Sachs_negative_count       1902\n",
       "BlackRock_negative_count           1291\n",
       "BlackRock_count                     939\n",
       "Morgan_Stanley_positive_count       155\n",
       "BlackRock_positive_count             48\n",
       "Goldman_Sachs_positive_count         28\n",
       "dtype: int64"
      ]
     },
     "execution_count": 27,
     "metadata": {},
     "output_type": "execute_result"
    }
   ],
   "source": [
    "media_attention.sum().sort_values(ascending=False)"
   ]
  },
  {
   "cell_type": "code",
   "execution_count": 38,
   "metadata": {
    "ExecuteTime": {
     "end_time": "2018-10-20T14:19:16.639205Z",
     "start_time": "2018-10-20T14:19:16.629892Z"
    }
   },
   "outputs": [
    {
     "name": "stdout",
     "output_type": "stream",
     "text": [
      "Numbers of negative and positive mentions of Morgan Stanley are: 2453 and 155\n"
     ]
    }
   ],
   "source": [
    "print('Numbers of negative and positive mentions of Morgan Stanley are: {} and {}'.format(media_attention['Morgan_Stanley_negative_count'].sum(),\n",
    "                                                                                   media_attention['Morgan_Stanley_positive_count'].sum())\n",
    "     )"
   ]
  },
  {
   "cell_type": "markdown",
   "metadata": {
    "ExecuteTime": {
     "end_time": "2018-10-20T12:23:40.093939Z",
     "start_time": "2018-10-20T12:23:40.091568Z"
    }
   },
   "source": [
    "#### Save the pre-processed media dataset"
   ]
  },
  {
   "cell_type": "code",
   "execution_count": null,
   "metadata": {},
   "outputs": [],
   "source": [
    "media_attention.to_csv('MediaAttention_Mini.csv')"
   ]
  }
 ],
 "metadata": {
  "kernelspec": {
   "display_name": "Python 3",
   "language": "python",
   "name": "python3"
  },
  "language_info": {
   "codemirror_mode": {
    "name": "ipython",
    "version": 3
   },
   "file_extension": ".py",
   "mimetype": "text/x-python",
   "name": "python",
   "nbconvert_exporter": "python",
   "pygments_lexer": "ipython3",
   "version": "3.6.6"
  },
  "toc": {
   "base_numbering": 1,
   "nav_menu": {},
   "number_sections": true,
   "sideBar": true,
   "skip_h1_title": false,
   "title_cell": "Table of Contents",
   "title_sidebar": "Contents",
   "toc_cell": false,
   "toc_position": {},
   "toc_section_display": true,
   "toc_window_display": false
  }
 },
 "nbformat": 4,
 "nbformat_minor": 2
}
