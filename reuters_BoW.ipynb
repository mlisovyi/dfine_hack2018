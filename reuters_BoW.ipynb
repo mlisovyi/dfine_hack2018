{
 "cells": [
  {
   "cell_type": "code",
   "execution_count": 1,
   "metadata": {
    "ExecuteTime": {
     "end_time": "2018-10-20T20:58:56.870294Z",
     "start_time": "2018-10-20T20:58:55.755908Z"
    }
   },
   "outputs": [],
   "source": [
    "import os\n",
    "import numpy as np\n",
    "import pandas as pd\n",
    "import warnings\n",
    "warnings.simplefilter(action='ignore', category=FutureWarning)\n",
    "import matplotlib.pyplot as plt\n",
    "import seaborn as sns"
   ]
  },
  {
   "cell_type": "code",
   "execution_count": 2,
   "metadata": {
    "ExecuteTime": {
     "end_time": "2018-10-20T20:58:56.875667Z",
     "start_time": "2018-10-20T20:58:56.872616Z"
    }
   },
   "outputs": [],
   "source": [
    "import gc\n",
    "gc.enable()"
   ]
  },
  {
   "cell_type": "code",
   "execution_count": 3,
   "metadata": {
    "ExecuteTime": {
     "end_time": "2018-10-20T20:58:56.881130Z",
     "start_time": "2018-10-20T20:58:56.877944Z"
    }
   },
   "outputs": [],
   "source": [
    "PATH = '../finanz_vs_news/'"
   ]
  },
  {
   "cell_type": "code",
   "execution_count": 4,
   "metadata": {
    "ExecuteTime": {
     "end_time": "2018-10-20T20:59:14.084922Z",
     "start_time": "2018-10-20T20:58:56.884732Z"
    }
   },
   "outputs": [],
   "source": [
    "df_reu = pd.read_csv(PATH+'reuters_ALL.csv.gz', parse_dates=['Time']).set_index('Time')"
   ]
  },
  {
   "cell_type": "code",
   "execution_count": 6,
   "metadata": {
    "ExecuteTime": {
     "end_time": "2018-10-20T20:59:14.637526Z",
     "start_time": "2018-10-20T20:59:14.091539Z"
    }
   },
   "outputs": [
    {
     "name": "stdout",
     "output_type": "stream",
     "text": [
      "<class 'pandas.core.frame.DataFrame'>\n",
      "DatetimeIndex: 5933715 entries, 2007-01-02 04:47:49 to 2017-12-30 05:05:43\n",
      "Data columns (total 1 columns):\n",
      "Short_Msg    object\n",
      "dtypes: object(1)\n",
      "memory usage: 734.5 MB\n"
     ]
    }
   ],
   "source": [
    "df_reu.info(memory_usage='deep')"
   ]
  },
  {
   "cell_type": "code",
   "execution_count": 7,
   "metadata": {
    "ExecuteTime": {
     "end_time": "2018-10-20T20:59:14.641359Z",
     "start_time": "2018-10-20T20:59:14.639289Z"
    },
    "code_folding": []
   },
   "outputs": [],
   "source": [
    "#temporary measure to remove suspicious dates\n",
    "#df_reu = df_reu.loc['2008',:]"
   ]
  },
  {
   "cell_type": "markdown",
   "metadata": {},
   "source": [
    "### Read in company ticker names"
   ]
  },
  {
   "cell_type": "code",
   "execution_count": 8,
   "metadata": {
    "ExecuteTime": {
     "end_time": "2018-10-20T20:59:14.652136Z",
     "start_time": "2018-10-20T20:59:14.643101Z"
    }
   },
   "outputs": [],
   "source": [
    "companies = pd.read_pickle('TickerDic.pickle')"
   ]
  },
  {
   "cell_type": "code",
   "execution_count": 9,
   "metadata": {
    "ExecuteTime": {
     "end_time": "2018-10-20T20:59:14.671278Z",
     "start_time": "2018-10-20T20:59:14.655701Z"
    }
   },
   "outputs": [
    {
     "data": {
      "text/html": [
       "<div>\n",
       "<style scoped>\n",
       "    .dataframe tbody tr th:only-of-type {\n",
       "        vertical-align: middle;\n",
       "    }\n",
       "\n",
       "    .dataframe tbody tr th {\n",
       "        vertical-align: top;\n",
       "    }\n",
       "\n",
       "    .dataframe thead th {\n",
       "        text-align: right;\n",
       "    }\n",
       "</style>\n",
       "<table border=\"1\" class=\"dataframe\">\n",
       "  <thead>\n",
       "    <tr style=\"text-align: right;\">\n",
       "      <th></th>\n",
       "      <th>Ticker</th>\n",
       "      <th>Name</th>\n",
       "      <th>Category Name</th>\n",
       "      <th>RedName</th>\n",
       "    </tr>\n",
       "  </thead>\n",
       "  <tbody>\n",
       "    <tr>\n",
       "      <th>0</th>\n",
       "      <td>AFL</td>\n",
       "      <td>Aflac Incorporated</td>\n",
       "      <td>Accident &amp; Health Insurance</td>\n",
       "      <td>Aflac</td>\n",
       "    </tr>\n",
       "    <tr>\n",
       "      <th>1</th>\n",
       "      <td>AIZ</td>\n",
       "      <td>Assurant, Inc.</td>\n",
       "      <td>Accident &amp; Health Insurance</td>\n",
       "      <td>Assurant</td>\n",
       "    </tr>\n",
       "    <tr>\n",
       "      <th>23</th>\n",
       "      <td>UNM</td>\n",
       "      <td>Unum Group</td>\n",
       "      <td>Accident &amp; Health Insurance</td>\n",
       "      <td>Unum</td>\n",
       "    </tr>\n",
       "    <tr>\n",
       "      <th>52</th>\n",
       "      <td>IPG</td>\n",
       "      <td>The Interpublic Group of Companies, Inc.</td>\n",
       "      <td>Advertising Agencies</td>\n",
       "      <td>Interpublic</td>\n",
       "    </tr>\n",
       "    <tr>\n",
       "      <th>57</th>\n",
       "      <td>OMC</td>\n",
       "      <td>Omnicom Group Inc.</td>\n",
       "      <td>Advertising Agencies</td>\n",
       "      <td>Omnicom</td>\n",
       "    </tr>\n",
       "  </tbody>\n",
       "</table>\n",
       "</div>"
      ],
      "text/plain": [
       "   Ticker                                      Name  \\\n",
       "0     AFL                        Aflac Incorporated   \n",
       "1     AIZ                            Assurant, Inc.   \n",
       "23    UNM                                Unum Group   \n",
       "52    IPG  The Interpublic Group of Companies, Inc.   \n",
       "57    OMC                        Omnicom Group Inc.   \n",
       "\n",
       "                  Category Name      RedName  \n",
       "0   Accident & Health Insurance        Aflac  \n",
       "1   Accident & Health Insurance     Assurant  \n",
       "23  Accident & Health Insurance         Unum  \n",
       "52         Advertising Agencies  Interpublic  \n",
       "57         Advertising Agencies      Omnicom  "
      ]
     },
     "execution_count": 9,
     "metadata": {},
     "output_type": "execute_result"
    }
   ],
   "source": [
    "companies.head()"
   ]
  },
  {
   "cell_type": "code",
   "execution_count": 10,
   "metadata": {
    "ExecuteTime": {
     "end_time": "2018-10-20T20:59:14.676016Z",
     "start_time": "2018-10-20T20:59:14.673052Z"
    }
   },
   "outputs": [],
   "source": [
    "company_names = companies['RedName'].tolist()"
   ]
  },
  {
   "cell_type": "code",
   "execution_count": 11,
   "metadata": {
    "ExecuteTime": {
     "end_time": "2018-10-20T20:59:14.692846Z",
     "start_time": "2018-10-20T20:59:14.677682Z"
    }
   },
   "outputs": [
    {
     "data": {
      "text/html": [
       "<div>\n",
       "<style scoped>\n",
       "    .dataframe tbody tr th:only-of-type {\n",
       "        vertical-align: middle;\n",
       "    }\n",
       "\n",
       "    .dataframe tbody tr th {\n",
       "        vertical-align: top;\n",
       "    }\n",
       "\n",
       "    .dataframe thead th {\n",
       "        text-align: right;\n",
       "    }\n",
       "</style>\n",
       "<table border=\"1\" class=\"dataframe\">\n",
       "  <thead>\n",
       "    <tr style=\"text-align: right;\">\n",
       "      <th></th>\n",
       "      <th>Ticker</th>\n",
       "      <th>Name</th>\n",
       "      <th>Category Name</th>\n",
       "      <th>RedName</th>\n",
       "    </tr>\n",
       "  </thead>\n",
       "  <tbody>\n",
       "    <tr>\n",
       "      <th>12065</th>\n",
       "      <td>MS</td>\n",
       "      <td>Morgan Stanley</td>\n",
       "      <td>Investment Brokerage - National</td>\n",
       "      <td>Morgan Stanley</td>\n",
       "    </tr>\n",
       "  </tbody>\n",
       "</table>\n",
       "</div>"
      ],
      "text/plain": [
       "      Ticker            Name                    Category Name         RedName\n",
       "12065     MS  Morgan Stanley  Investment Brokerage - National  Morgan Stanley"
      ]
     },
     "execution_count": 11,
     "metadata": {},
     "output_type": "execute_result"
    }
   ],
   "source": [
    "companies.query('RedName == \"Morgan Stanley\"')"
   ]
  },
  {
   "cell_type": "markdown",
   "metadata": {},
   "source": [
    "### Red in neg/pos dictionaries"
   ]
  },
  {
   "cell_type": "code",
   "execution_count": 12,
   "metadata": {
    "ExecuteTime": {
     "end_time": "2018-10-20T20:59:14.701564Z",
     "start_time": "2018-10-20T20:59:14.694608Z"
    }
   },
   "outputs": [],
   "source": [
    "pos_words = pd.read_pickle('DicPositiveWords.pickle')\n",
    "neg_words = pd.read_pickle('DicNegativeWords.pickle')"
   ]
  },
  {
   "cell_type": "markdown",
   "metadata": {},
   "source": [
    "### Do bag of words"
   ]
  },
  {
   "cell_type": "code",
   "execution_count": 13,
   "metadata": {
    "ExecuteTime": {
     "end_time": "2018-10-20T20:59:14.708660Z",
     "start_time": "2018-10-20T20:59:14.703755Z"
    }
   },
   "outputs": [
    {
     "data": {
      "text/plain": [
       "<module 'helpers' from '/media/mlisovyi/shared_space/dfine2018/dfine_hack2018/helpers.py'>"
      ]
     },
     "execution_count": 13,
     "metadata": {},
     "output_type": "execute_result"
    }
   ],
   "source": [
    "import helpers\n",
    "\n",
    "import importlib\n",
    "importlib.reload(helpers)"
   ]
  },
  {
   "cell_type": "code",
   "execution_count": 14,
   "metadata": {
    "ExecuteTime": {
     "end_time": "2018-10-20T22:04:36.727682Z",
     "start_time": "2018-10-20T20:59:25.634732Z"
    }
   },
   "outputs": [],
   "source": [
    "media_attention = helpers.count_sensitive_words(df_reu.copy(deep=True), \n",
    "                                        [\"Morgan Stanley\", \"Goldman Sachs\", \"BlackRock\"]+[{'positive': pos_words.values.tolist()},\n",
    "                                                       {'negative': neg_words.values.tolist()}\n",
    "                                                      ], \n",
    "                                        companies_neg_pos=[\"Morgan Stanley\", \"Goldman Sachs\", \"BlackRock\"])"
   ]
  },
  {
   "cell_type": "code",
   "execution_count": 15,
   "metadata": {
    "ExecuteTime": {
     "end_time": "2018-10-20T22:26:40.473340Z",
     "start_time": "2018-10-20T22:26:40.454044Z"
    }
   },
   "outputs": [],
   "source": [
    "media_attention = helpers.fe(media_attention)"
   ]
  },
  {
   "cell_type": "code",
   "execution_count": 16,
   "metadata": {
    "ExecuteTime": {
     "end_time": "2018-10-20T22:26:48.059615Z",
     "start_time": "2018-10-20T22:26:48.049885Z"
    }
   },
   "outputs": [
    {
     "name": "stdout",
     "output_type": "stream",
     "text": [
      "<class 'pandas.core.frame.DataFrame'>\n",
      "DatetimeIndex: 4556 entries, 2005-07-22 to 2018-01-10\n",
      "Freq: D\n",
      "Data columns (total 23 columns):\n",
      "Morgan_Stanley_count             4556 non-null int64\n",
      "Goldman_Sachs_count              4556 non-null int64\n",
      "BlackRock_count                  4556 non-null int64\n",
      "positive_count                   4556 non-null int64\n",
      "negative_count                   4556 non-null int64\n",
      "Morgan_Stanley_positive_count    4556 non-null int64\n",
      "Morgan_Stanley_negative_count    4556 non-null int64\n",
      "Goldman_Sachs_positive_count     4556 non-null int64\n",
      "Goldman_Sachs_negative_count     4556 non-null int64\n",
      "BlackRock_positive_count         4556 non-null int64\n",
      "BlackRock_negative_count         4556 non-null int64\n",
      "total_msg_count                  4556 non-null int64\n",
      "Morgan_Stanley_frac              3439 non-null float64\n",
      "Goldman_Sachs_frac               3439 non-null float64\n",
      "BlackRock_frac                   3439 non-null float64\n",
      "positive_frac                    3439 non-null float64\n",
      "negative_frac                    3439 non-null float64\n",
      "Morgan_Stanley_positive_frac     3439 non-null float64\n",
      "Morgan_Stanley_negative_frac     3439 non-null float64\n",
      "Goldman_Sachs_positive_frac      3439 non-null float64\n",
      "Goldman_Sachs_negative_frac      3439 non-null float64\n",
      "BlackRock_positive_frac          3439 non-null float64\n",
      "BlackRock_negative_frac          3439 non-null float64\n",
      "dtypes: float64(11), int64(12)\n",
      "memory usage: 854.2 KB\n"
     ]
    }
   ],
   "source": [
    "media_attention.info()"
   ]
  },
  {
   "cell_type": "code",
   "execution_count": 17,
   "metadata": {
    "ExecuteTime": {
     "end_time": "2018-10-20T22:31:01.520760Z",
     "start_time": "2018-10-20T22:31:01.513580Z"
    }
   },
   "outputs": [
    {
     "data": {
      "text/plain": [
       "total_msg_count                  5.933715e+06\n",
       "negative_count                   2.028449e+06\n",
       "positive_count                   1.042191e+06\n",
       "Morgan_Stanley_count             1.563300e+04\n",
       "BlackRock_negative_count         1.048500e+04\n",
       "Goldman_Sachs_count              9.898000e+03\n",
       "BlackRock_count                  8.324000e+03\n",
       "Morgan_Stanley_negative_count    5.199000e+03\n",
       "Goldman_Sachs_negative_count     3.644000e+03\n",
       "negative_frac                    1.376888e+03\n",
       "Morgan_Stanley_positive_count    9.550000e+02\n",
       "BlackRock_positive_count         7.150000e+02\n",
       "positive_frac                    5.622091e+02\n",
       "Goldman_Sachs_positive_count     2.770000e+02\n",
       "Morgan_Stanley_frac              5.606175e+00\n",
       "BlackRock_negative_frac          3.713565e+00\n",
       "Goldman_Sachs_frac               3.420271e+00\n",
       "BlackRock_frac                   2.880341e+00\n",
       "Morgan_Stanley_negative_frac     1.900912e+00\n",
       "Goldman_Sachs_negative_frac      1.257423e+00\n",
       "Morgan_Stanley_positive_frac     3.892451e-01\n",
       "BlackRock_positive_frac          2.555945e-01\n",
       "Goldman_Sachs_positive_frac      1.236407e-01\n",
       "dtype: float64"
      ]
     },
     "execution_count": 17,
     "metadata": {},
     "output_type": "execute_result"
    }
   ],
   "source": [
    "media_attention.sum().sort_values(ascending=False)"
   ]
  },
  {
   "cell_type": "code",
   "execution_count": 18,
   "metadata": {
    "ExecuteTime": {
     "end_time": "2018-10-20T22:33:12.171965Z",
     "start_time": "2018-10-20T22:33:12.166879Z"
    }
   },
   "outputs": [
    {
     "name": "stdout",
     "output_type": "stream",
     "text": [
      "Numbers of negative and positive mentions of Morgan Stanley are: 5199 and 955\n"
     ]
    }
   ],
   "source": [
    "print('Numbers of negative and positive mentions of Morgan Stanley are: {} and {}'.format(media_attention['Morgan_Stanley_negative_count'].sum(),\n",
    "                                                                                   media_attention['Morgan_Stanley_positive_count'].sum())\n",
    "     )"
   ]
  },
  {
   "cell_type": "markdown",
   "metadata": {
    "ExecuteTime": {
     "end_time": "2018-10-20T12:23:40.093939Z",
     "start_time": "2018-10-20T12:23:40.091568Z"
    }
   },
   "source": [
    "#### Save the pre-processed media dataset"
   ]
  },
  {
   "cell_type": "code",
   "execution_count": 19,
   "metadata": {
    "ExecuteTime": {
     "end_time": "2018-10-20T22:33:19.376666Z",
     "start_time": "2018-10-20T22:33:19.235971Z"
    }
   },
   "outputs": [],
   "source": [
    "media_attention.to_csv('MediaAttention_Mini.csv')"
   ]
  },
  {
   "cell_type": "code",
   "execution_count": null,
   "metadata": {},
   "outputs": [],
   "source": []
  }
 ],
 "metadata": {
  "kernelspec": {
   "display_name": "Python 3",
   "language": "python",
   "name": "python3"
  },
  "language_info": {
   "codemirror_mode": {
    "name": "ipython",
    "version": 3
   },
   "file_extension": ".py",
   "mimetype": "text/x-python",
   "name": "python",
   "nbconvert_exporter": "python",
   "pygments_lexer": "ipython3",
   "version": "3.6.6"
  },
  "toc": {
   "base_numbering": 1,
   "nav_menu": {},
   "number_sections": true,
   "sideBar": true,
   "skip_h1_title": false,
   "title_cell": "Table of Contents",
   "title_sidebar": "Contents",
   "toc_cell": false,
   "toc_position": {},
   "toc_section_display": true,
   "toc_window_display": false
  }
 },
 "nbformat": 4,
 "nbformat_minor": 2
}
